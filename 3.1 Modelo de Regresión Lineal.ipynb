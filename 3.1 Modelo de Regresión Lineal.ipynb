{
 "cells": [
  {
   "cell_type": "markdown",
   "metadata": {},
   "source": [
    "# 3.1 Regresión Lineal Simple\n",
    "### Miguel Ángel Jiménez Cuadrillero\n",
    "### 2020\n",
    "\n",
    "Para esta sección se va a utilizar un parquete de información sobre datos de marketing integrado en paquete de R datarium.\n",
    "\n",
    "https://github.com/kassambara/datarium\n",
    "\n",
    "Contiene el impacto de tres medios publicitarios (youtube, facebook y periódico) en las ventas. Los datos son el presupuesto publicitario en miles de dólares junto con las ventas. El experimento publicitario se ha repetido 200 veces con diferentes presupuestos y se han registrado las ventas observadas.\n",
    "\n",
    "OBJETIVO: Queremos predecir las ventas futuras en función del presupuesto publicitario gastado en YouTube."
   ]
  },
  {
   "cell_type": "code",
   "execution_count": 1,
   "metadata": {
    "ExecuteTime": {
     "end_time": "2020-07-08T16:10:47.609273Z",
     "start_time": "2020-07-08T16:10:45.707811Z"
    }
   },
   "outputs": [],
   "source": [
    "import pandas as pd\n",
    "import numpy as np  \n",
    "import seaborn as sns\n",
    "import matplotlib.pyplot as plt\n",
    "%matplotlib inline \n",
    "import warnings\n",
    "\n",
    "random_state = 42"
   ]
  },
  {
   "cell_type": "markdown",
   "metadata": {},
   "source": [
    "## Análisis Exploratorio de Datos"
   ]
  },
  {
   "cell_type": "code",
   "execution_count": 2,
   "metadata": {
    "ExecuteTime": {
     "end_time": "2020-07-08T16:10:47.618763Z",
     "start_time": "2020-07-08T16:10:47.611235Z"
    }
   },
   "outputs": [],
   "source": [
    "df = pd.read_csv(\"./datasets/marketing.csv\", sep=';')"
   ]
  },
  {
   "cell_type": "code",
   "execution_count": 3,
   "metadata": {
    "ExecuteTime": {
     "end_time": "2020-07-08T16:10:47.636272Z",
     "start_time": "2020-07-08T16:10:47.624734Z"
    }
   },
   "outputs": [
    {
     "data": {
      "text/plain": [
       "youtube      float64\n",
       "facebook     float64\n",
       "newspaper    float64\n",
       "sales        float64\n",
       "dtype: object"
      ]
     },
     "execution_count": 3,
     "metadata": {},
     "output_type": "execute_result"
    }
   ],
   "source": [
    "df.dtypes"
   ]
  },
  {
   "cell_type": "code",
   "execution_count": 4,
   "metadata": {
    "ExecuteTime": {
     "end_time": "2020-07-08T16:10:47.653281Z",
     "start_time": "2020-07-08T16:10:47.638274Z"
    }
   },
   "outputs": [
    {
     "data": {
      "text/html": [
       "<div>\n",
       "<style scoped>\n",
       "    .dataframe tbody tr th:only-of-type {\n",
       "        vertical-align: middle;\n",
       "    }\n",
       "\n",
       "    .dataframe tbody tr th {\n",
       "        vertical-align: top;\n",
       "    }\n",
       "\n",
       "    .dataframe thead th {\n",
       "        text-align: right;\n",
       "    }\n",
       "</style>\n",
       "<table border=\"1\" class=\"dataframe\">\n",
       "  <thead>\n",
       "    <tr style=\"text-align: right;\">\n",
       "      <th></th>\n",
       "      <th>youtube</th>\n",
       "      <th>facebook</th>\n",
       "      <th>newspaper</th>\n",
       "      <th>sales</th>\n",
       "    </tr>\n",
       "  </thead>\n",
       "  <tbody>\n",
       "    <tr>\n",
       "      <th>0</th>\n",
       "      <td>276.12</td>\n",
       "      <td>45.36</td>\n",
       "      <td>83.04</td>\n",
       "      <td>26.52</td>\n",
       "    </tr>\n",
       "    <tr>\n",
       "      <th>1</th>\n",
       "      <td>53.40</td>\n",
       "      <td>47.16</td>\n",
       "      <td>54.12</td>\n",
       "      <td>12.48</td>\n",
       "    </tr>\n",
       "    <tr>\n",
       "      <th>2</th>\n",
       "      <td>20.64</td>\n",
       "      <td>55.08</td>\n",
       "      <td>83.16</td>\n",
       "      <td>11.16</td>\n",
       "    </tr>\n",
       "    <tr>\n",
       "      <th>3</th>\n",
       "      <td>181.80</td>\n",
       "      <td>49.56</td>\n",
       "      <td>70.20</td>\n",
       "      <td>22.20</td>\n",
       "    </tr>\n",
       "    <tr>\n",
       "      <th>4</th>\n",
       "      <td>216.96</td>\n",
       "      <td>12.96</td>\n",
       "      <td>70.08</td>\n",
       "      <td>15.48</td>\n",
       "    </tr>\n",
       "  </tbody>\n",
       "</table>\n",
       "</div>"
      ],
      "text/plain": [
       "   youtube  facebook  newspaper  sales\n",
       "0   276.12     45.36      83.04  26.52\n",
       "1    53.40     47.16      54.12  12.48\n",
       "2    20.64     55.08      83.16  11.16\n",
       "3   181.80     49.56      70.20  22.20\n",
       "4   216.96     12.96      70.08  15.48"
      ]
     },
     "execution_count": 4,
     "metadata": {},
     "output_type": "execute_result"
    }
   ],
   "source": [
    "df.head()"
   ]
  },
  {
   "cell_type": "code",
   "execution_count": 5,
   "metadata": {
    "ExecuteTime": {
     "end_time": "2020-07-08T16:10:47.673170Z",
     "start_time": "2020-07-08T16:10:47.656271Z"
    }
   },
   "outputs": [
    {
     "data": {
      "text/html": [
       "<div>\n",
       "<style scoped>\n",
       "    .dataframe tbody tr th:only-of-type {\n",
       "        vertical-align: middle;\n",
       "    }\n",
       "\n",
       "    .dataframe tbody tr th {\n",
       "        vertical-align: top;\n",
       "    }\n",
       "\n",
       "    .dataframe thead th {\n",
       "        text-align: right;\n",
       "    }\n",
       "</style>\n",
       "<table border=\"1\" class=\"dataframe\">\n",
       "  <thead>\n",
       "    <tr style=\"text-align: right;\">\n",
       "      <th></th>\n",
       "      <th>youtube</th>\n",
       "      <th>facebook</th>\n",
       "      <th>newspaper</th>\n",
       "      <th>sales</th>\n",
       "    </tr>\n",
       "  </thead>\n",
       "  <tbody>\n",
       "    <tr>\n",
       "      <th>195</th>\n",
       "      <td>45.84</td>\n",
       "      <td>4.44</td>\n",
       "      <td>16.56</td>\n",
       "      <td>9.12</td>\n",
       "    </tr>\n",
       "    <tr>\n",
       "      <th>196</th>\n",
       "      <td>113.04</td>\n",
       "      <td>5.88</td>\n",
       "      <td>9.72</td>\n",
       "      <td>11.64</td>\n",
       "    </tr>\n",
       "    <tr>\n",
       "      <th>197</th>\n",
       "      <td>212.40</td>\n",
       "      <td>11.16</td>\n",
       "      <td>7.68</td>\n",
       "      <td>15.36</td>\n",
       "    </tr>\n",
       "    <tr>\n",
       "      <th>198</th>\n",
       "      <td>340.32</td>\n",
       "      <td>50.40</td>\n",
       "      <td>79.44</td>\n",
       "      <td>30.60</td>\n",
       "    </tr>\n",
       "    <tr>\n",
       "      <th>199</th>\n",
       "      <td>278.52</td>\n",
       "      <td>10.32</td>\n",
       "      <td>10.44</td>\n",
       "      <td>16.08</td>\n",
       "    </tr>\n",
       "  </tbody>\n",
       "</table>\n",
       "</div>"
      ],
      "text/plain": [
       "     youtube  facebook  newspaper  sales\n",
       "195    45.84      4.44      16.56   9.12\n",
       "196   113.04      5.88       9.72  11.64\n",
       "197   212.40     11.16       7.68  15.36\n",
       "198   340.32     50.40      79.44  30.60\n",
       "199   278.52     10.32      10.44  16.08"
      ]
     },
     "execution_count": 5,
     "metadata": {},
     "output_type": "execute_result"
    }
   ],
   "source": [
    "df.tail()"
   ]
  },
  {
   "cell_type": "markdown",
   "metadata": {},
   "source": [
    "## Estudio numérico de datos"
   ]
  },
  {
   "cell_type": "code",
   "execution_count": 6,
   "metadata": {
    "ExecuteTime": {
     "end_time": "2020-07-08T16:10:47.707160Z",
     "start_time": "2020-07-08T16:10:47.676161Z"
    }
   },
   "outputs": [
    {
     "data": {
      "text/html": [
       "<div>\n",
       "<style scoped>\n",
       "    .dataframe tbody tr th:only-of-type {\n",
       "        vertical-align: middle;\n",
       "    }\n",
       "\n",
       "    .dataframe tbody tr th {\n",
       "        vertical-align: top;\n",
       "    }\n",
       "\n",
       "    .dataframe thead th {\n",
       "        text-align: right;\n",
       "    }\n",
       "</style>\n",
       "<table border=\"1\" class=\"dataframe\">\n",
       "  <thead>\n",
       "    <tr style=\"text-align: right;\">\n",
       "      <th></th>\n",
       "      <th>youtube</th>\n",
       "      <th>facebook</th>\n",
       "      <th>newspaper</th>\n",
       "      <th>sales</th>\n",
       "    </tr>\n",
       "  </thead>\n",
       "  <tbody>\n",
       "    <tr>\n",
       "      <th>count</th>\n",
       "      <td>200.000000</td>\n",
       "      <td>200.000000</td>\n",
       "      <td>200.000000</td>\n",
       "      <td>200.000000</td>\n",
       "    </tr>\n",
       "    <tr>\n",
       "      <th>mean</th>\n",
       "      <td>176.451000</td>\n",
       "      <td>27.916800</td>\n",
       "      <td>36.664800</td>\n",
       "      <td>16.827000</td>\n",
       "    </tr>\n",
       "    <tr>\n",
       "      <th>std</th>\n",
       "      <td>103.025084</td>\n",
       "      <td>17.816171</td>\n",
       "      <td>26.134345</td>\n",
       "      <td>6.260948</td>\n",
       "    </tr>\n",
       "    <tr>\n",
       "      <th>min</th>\n",
       "      <td>0.840000</td>\n",
       "      <td>0.000000</td>\n",
       "      <td>0.360000</td>\n",
       "      <td>1.920000</td>\n",
       "    </tr>\n",
       "    <tr>\n",
       "      <th>25%</th>\n",
       "      <td>89.250000</td>\n",
       "      <td>11.970000</td>\n",
       "      <td>15.300000</td>\n",
       "      <td>12.450000</td>\n",
       "    </tr>\n",
       "    <tr>\n",
       "      <th>50%</th>\n",
       "      <td>179.700000</td>\n",
       "      <td>27.480000</td>\n",
       "      <td>30.900000</td>\n",
       "      <td>15.480000</td>\n",
       "    </tr>\n",
       "    <tr>\n",
       "      <th>75%</th>\n",
       "      <td>262.590000</td>\n",
       "      <td>43.830000</td>\n",
       "      <td>54.120000</td>\n",
       "      <td>20.880000</td>\n",
       "    </tr>\n",
       "    <tr>\n",
       "      <th>max</th>\n",
       "      <td>355.680000</td>\n",
       "      <td>59.520000</td>\n",
       "      <td>136.800000</td>\n",
       "      <td>32.400000</td>\n",
       "    </tr>\n",
       "  </tbody>\n",
       "</table>\n",
       "</div>"
      ],
      "text/plain": [
       "          youtube    facebook   newspaper       sales\n",
       "count  200.000000  200.000000  200.000000  200.000000\n",
       "mean   176.451000   27.916800   36.664800   16.827000\n",
       "std    103.025084   17.816171   26.134345    6.260948\n",
       "min      0.840000    0.000000    0.360000    1.920000\n",
       "25%     89.250000   11.970000   15.300000   12.450000\n",
       "50%    179.700000   27.480000   30.900000   15.480000\n",
       "75%    262.590000   43.830000   54.120000   20.880000\n",
       "max    355.680000   59.520000  136.800000   32.400000"
      ]
     },
     "execution_count": 6,
     "metadata": {},
     "output_type": "execute_result"
    }
   ],
   "source": [
    "df.describe()"
   ]
  },
  {
   "cell_type": "markdown",
   "metadata": {},
   "source": [
    "## Visualización de Datos\n",
    "\n",
    "* Creamos un diagrama de dispersión que muestra las unidades de ventas versus el presupuesto publicitario de YouTube.\n",
    "\n",
    "* Agregamos una lína suavizada que nos represente el resumen o patrón de los datos para entender mejor el scatter plot (usa el lowess, de momento no sabemos el modelo no asumimos nada)\n",
    "\n",
    "https://en.wikipedia.org/wiki/Local_regression\n",
    "\n",
    "https://seaborn.pydata.org/tutorial/regression.html"
   ]
  },
  {
   "cell_type": "code",
   "execution_count": 7,
   "metadata": {
    "ExecuteTime": {
     "end_time": "2020-07-08T16:10:48.023705Z",
     "start_time": "2020-07-08T16:10:47.709745Z"
    }
   },
   "outputs": [
    {
     "data": {
      "text/plain": [
       "<seaborn.axisgrid.FacetGrid at 0x1b5740ee7c8>"
      ]
     },
     "execution_count": 7,
     "metadata": {},
     "output_type": "execute_result"
    },
    {
     "data": {
      "image/png": "[encoded data removed]",
      "text/plain": [
       "<Figure size 900x720 with 1 Axes>"
      ]
     },
     "metadata": {
      "needs_background": "light"
     },
     "output_type": "display_data"
    }
   ],
   "source": [
    "sns.lmplot(x=\"youtube\", y=\"sales\", data=df, lowess=True, height=10, aspect=1.25)"
   ]
  },
  {
   "cell_type": "markdown",
   "metadata": {},
   "source": [
    "## Interpretación preliminar\n",
    "\n",
    "\n",
    "El gráfico anterior sugiere una relación linealmente creciente entre las ventas y la inversión en el canal youtube (variable y). Esto es algo bueno porque, una suposición importante de la regresión lineal es que la relación entre el resultado y las variables predictoras es lineal y aditiva.\n",
    "\n",
    "También es posible calcular el coeficiente de correlación entre las dos variables usando la función R cor():\n",
    "\n",
    "Existen diferentes métodos para realizar análisis de correlación :\n",
    "\n",
    "* Correlación de Pearson: que mide una dependencia lineal entre dos variables (x e y). También se conoce como prueba de correlación paramétrica porque depende de la distribución de los datos. Se puede usar solo cuando x e y son de distribución normal. La gráfica de y = f(x) se denomina curva de regresión lineal .\n",
    "\n",
    "* Kendall y Spearman: son coeficientes de correlación basados en rangos (no paramétricos)\n",
    "\n",
    "https://pandas.pydata.org/pandas-docs/stable/reference/api/pandas.DataFrame.corr.html\n",
    "\n",
    "En este caso nos insteresa el coeficiente de correlacion de Pearson:"
   ]
  },
  {
   "cell_type": "code",
   "execution_count": 8,
   "metadata": {
    "ExecuteTime": {
     "end_time": "2020-07-08T16:10:48.033013Z",
     "start_time": "2020-07-08T16:10:48.026706Z"
    }
   },
   "outputs": [
    {
     "data": {
      "text/plain": [
       "0.7822244248616066"
      ]
     },
     "execution_count": 8,
     "metadata": {},
     "output_type": "execute_result"
    }
   ],
   "source": [
    "df.sales.corr(df.youtube, method=\"pearson\")"
   ]
  },
  {
   "cell_type": "code",
   "execution_count": 9,
   "metadata": {
    "ExecuteTime": {
     "end_time": "2020-07-08T16:10:48.050004Z",
     "start_time": "2020-07-08T16:10:48.034987Z"
    }
   },
   "outputs": [
    {
     "data": {
      "text/plain": [
       "0.8006143768505687"
      ]
     },
     "execution_count": 9,
     "metadata": {},
     "output_type": "execute_result"
    }
   ],
   "source": [
    "df.sales.corr(df.youtube, method=\"spearman\")"
   ]
  },
  {
   "cell_type": "code",
   "execution_count": 10,
   "metadata": {
    "ExecuteTime": {
     "end_time": "2020-07-08T16:10:48.060984Z",
     "start_time": "2020-07-08T16:10:48.052983Z"
    }
   },
   "outputs": [
    {
     "data": {
      "text/plain": [
       "0.6219463551009411"
      ]
     },
     "execution_count": 10,
     "metadata": {},
     "output_type": "execute_result"
    }
   ],
   "source": [
    "df.sales.corr(df.youtube, method=\"kendall\")"
   ]
  },
  {
   "cell_type": "markdown",
   "metadata": {},
   "source": [
    "El coeficiente de correlación mide el nivel de asociación entre dos variables x e y. Su valor oscila entre -1 (correlación negativa perfecta: cuando x aumenta, y disminuye) y +1 (correlación positiva perfecta: cuando x aumenta, y aumenta).\n",
    "\n",
    "Un valor más cercano a 0 sugiere una relación débil entre las variables. Una baja correlación (-0.2 <x <0.2) probablemente sugiere que gran parte de la variación de la variable de resultado (y) no se explica por el predictor (x). En tal caso, probablemente deberíamos buscar mejores variables predictoras.\n",
    "\n",
    "En nuestro ejemplo, el coeficiente de correlación es lo suficientemente grande, por lo que podemos continuar construyendo un modelo lineal de y=f(x)\n",
    "\n",
    "\n",
    "## Entrenamiento del Modelo\n",
    "\n",
    "La regresión lineal simple intenta encontrar la mejor recta que permita predecir las ventas sobre la base del presupuesto publicitario de YouTube.\n",
    "\n",
    "## Selección de Features y Label\n",
    "\n",
    "La ecuación del modelo lineal se puede escribir de la siguiente manera: sales = b0 + b1 * youtube\n",
    "\n",
    "\n",
    "## División Train/Test\n"
   ]
  },
  {
   "cell_type": "code",
   "execution_count": 11,
   "metadata": {
    "ExecuteTime": {
     "end_time": "2020-07-08T16:10:48.152521Z",
     "start_time": "2020-07-08T16:10:48.066938Z"
    }
   },
   "outputs": [],
   "source": [
    "from sklearn.model_selection import train_test_split\n",
    "\n",
    "df = pd.read_csv(\"./datasets/marketing.csv\", sep=';')\n",
    "\n",
    "y = df['sales']\n",
    "X = df['youtube'].values.reshape(-1,1) # Para evitar el error ValueError: Expected 2D array, got 1D array instead\n",
    "\n",
    "X_train, X_test, y_train, y_test = train_test_split(X, y, test_size=0.8, random_state=random_state)"
   ]
  },
  {
   "cell_type": "markdown",
   "metadata": {},
   "source": [
    "## Configuración del Modelo\n",
    "\n",
    "Los resultados muestran la intersección y el coeficiente beta para la variable youtube.\n",
    "\n",
    "https://scikit-learn.org/stable/modules/generated/sklearn.linear_model.LinearRegression.html#sklearn.linear_model.LinearRegression"
   ]
  },
  {
   "cell_type": "code",
   "execution_count": 12,
   "metadata": {
    "ExecuteTime": {
     "end_time": "2020-07-08T16:10:48.208465Z",
     "start_time": "2020-07-08T16:10:48.154464Z"
    }
   },
   "outputs": [
    {
     "data": {
      "text/plain": [
       "LinearRegression(copy_X=True, fit_intercept=True, n_jobs=None, normalize=False)"
      ]
     },
     "execution_count": 12,
     "metadata": {},
     "output_type": "execute_result"
    }
   ],
   "source": [
    " from sklearn import linear_model\n",
    "lm = linear_model.LinearRegression()\n",
    "\n",
    "lm.fit(X_train, y_train)"
   ]
  },
  {
   "cell_type": "code",
   "execution_count": 13,
   "metadata": {
    "ExecuteTime": {
     "end_time": "2020-07-08T16:10:48.216495Z",
     "start_time": "2020-07-08T16:10:48.210466Z"
    }
   },
   "outputs": [
    {
     "data": {
      "text/plain": [
       "array([0.04823382])"
      ]
     },
     "execution_count": 13,
     "metadata": {},
     "output_type": "execute_result"
    }
   ],
   "source": [
    "lm.coef_"
   ]
  },
  {
   "cell_type": "code",
   "execution_count": 14,
   "metadata": {
    "ExecuteTime": {
     "end_time": "2020-07-08T16:10:48.233512Z",
     "start_time": "2020-07-08T16:10:48.218997Z"
    }
   },
   "outputs": [
    {
     "data": {
      "text/plain": [
       "8.16376532296142"
      ]
     },
     "execution_count": 14,
     "metadata": {},
     "output_type": "execute_result"
    }
   ],
   "source": [
    "lm.intercept_"
   ]
  },
  {
   "cell_type": "markdown",
   "metadata": {},
   "source": [
    "## Evaluación del Ajuste del modelo\n",
    "\n",
    "La ecuación de la línea de regresión estimada se puede escribir de la siguiente manera: sales = 8.16 + 0.048 * youtube\n",
    "\n",
    "La intercepción (b0) es 8.16, esto se puede interpretar como la unidad de ventas prevista para un presupuesto de publicidad cero en YouTube.\n",
    "\n",
    "Recordemos que estamos operando en unidades de miles de dólares. Esto significa que, para un presupuesto publicitario de youtube igual a cero, podemos esperar una venta de 8.16 * 1000 = 8160 dólares.\n",
    "\n",
    "el coeficiente beta de regresión para la variable youtube (b1), también conocida como la pendiente de la recta, es 0.048. Esto significa que, para un presupuesto publicitario de youtube igual a 1000 dólares, podemos esperar un aumento de 48 unidades (0.048 * 1000) en ventas. Es decir:\n",
    "\n",
    "sales = 8.16 + 0.048*1000 = 56.16 unidades. Como estamos operando en unidades de miles de dólares, esto representa una venta de 56160 dólares.\n",
    "\n",
    "\n",
    "## Validación Gráfica\n",
    "\n",
    "Pintamos la Línea de regresión para validar gráficamente la bondad del modelo. En otro tipo de modelos esto no podremos hacerlo.\n",
    "\n",
    "Para agregar la línea de regresión al diagrama de dispersión, puede usar la función sns.regplot. Por defecto, la línea ajustada se presenta con un intervalo de confianza a su alrededor. Las bandas de confianza reflejan la incertidumbre sobre la línea.\n",
    "\n",
    "Curiosidad: Cómo gestionar los tamaños de los gráficos de .regplot y lmplot\n",
    "\n",
    "https://stackoverflow.com/questions/35948995/seaborn-lmplot-got-an-unexpected-keyword-argument-figsize"
   ]
  },
  {
   "cell_type": "code",
   "execution_count": 15,
   "metadata": {
    "ExecuteTime": {
     "end_time": "2020-07-08T16:10:48.573058Z",
     "start_time": "2020-07-08T16:10:48.235510Z"
    }
   },
   "outputs": [
    {
     "data": {
      "image/png": "[encoded data removed]",
      "text/plain": [
       "<Figure size 1080x864 with 1 Axes>"
      ]
     },
     "metadata": {
      "needs_background": "light"
     },
     "output_type": "display_data"
    }
   ],
   "source": [
    "plt.figure(figsize=(15,12))\n",
    "ax = sns.regplot(x=\"youtube\", y=\"sales\", data=df)"
   ]
  },
  {
   "cell_type": "markdown",
   "metadata": {},
   "source": [
    "Se ha construido un modelo lineal de ventas en función del presupuesto de publicidad de youtube: sales = 8.16 + 0.048*youtube.\n",
    "\n",
    "Antes de usar esta fórmula para predecir ventas futuras, debemos asegurarnos de que este modelo sea adecuado, es decir:\n",
    "\n",
    "* Existe una relación significativa entre el predictor y las variables de resultado\n",
    "* El modelo que construimos se ajusta bien a los datos pero no al ruido.\n",
    "\n",
    "* IMPORTANTE: scikit-learn no nos ofrece una descripción del modelo cómo lo hace caret ya que scikit-learn está orientado al aprendizaje automático y la predicción. Otras librerías estadísticas como statsmodels está orientada a la comprensión de sus modelos, similar a caret en este aspecto. También se puede usar:\n",
    "\n",
    "https://docs.scipy.org/doc/scipy/reference/generated/scipy.stats.linregress.html\n",
    "\n",
    "\n",
    "La calidad general del ajuste de regresión lineal se puede evaluar utilizando las siguientes métricas, que se muestran en el resumen del modelo:\n",
    "\n",
    "* RSE o model Sigma\n",
    "* R2 o R-square\n",
    "\n",
    "## RSE o model Sigma\n",
    "\n",
    "El RSE (también conocido como modelo sigma) es la variación residual, que representa la variación promedio de los puntos de observación alrededor de la línea de regresión ajustada. Esta es la desviación estándar de los errores residuales.\n",
    "\n",
    "RSE proporciona una medida absoluta de patrones en los datos que el modelo no puede explicar. Al comparar dos modelos, el modelo con el pequeño RSE es una buena indicación de que este modelo se ajusta mejor a los datos.\n",
    "\n",
    "Dividir el RSE por el valor promedio de la variable de resultado le dará la tasa de error de predicción, que debe ser lo más pequeña posible."
   ]
  },
  {
   "cell_type": "code",
   "execution_count": 16,
   "metadata": {
    "ExecuteTime": {
     "end_time": "2020-07-08T16:10:48.581060Z",
     "start_time": "2020-07-08T16:10:48.575069Z"
    }
   },
   "outputs": [
    {
     "data": {
      "text/plain": [
       "4.150644516790223"
      ]
     },
     "execution_count": 16,
     "metadata": {},
     "output_type": "execute_result"
    }
   ],
   "source": [
    "from sklearn.metrics import mean_squared_error\n",
    "\n",
    "y_predict = lm.predict(X_train)\n",
    "\n",
    "sigma = mean_squared_error(y_train, y_predict, squared=False)\n",
    "sigma"
   ]
  },
  {
   "cell_type": "markdown",
   "metadata": {},
   "source": [
    "## R2 o R-square\n",
    "\n",
    "El R cuadrado (R2) varía de 0 a 1 y representa la proporción de información (es decir, variación) en los datos que puede explicar el modelo. El R cuadrado ajustado se ajusta a los grados de libertad.\n",
    "\n",
    "El R2 mide qué tan bien se ajusta el modelo a los datos. Para una regresión lineal simple, R2 es el cuadrado del coeficiente de correlación de Pearson.\n",
    "\n",
    "Un alto valor de R2 es una buena indicación. Sin embargo, como el valor de R2 tiende a aumentar cuando se agregan más predictores en el modelo, como en el modelo de regresión lineal múltiple, debe considerar principalmente el R cuadrado ajustado, que es un R2 penalizado para un mayor número de predictores.\n",
    "\n",
    "Un R2 (ajustado) cercano a 1 indica que una gran proporción de la variabilidad en el resultado ha sido explicada por el modelo de regresión. Un número cercano a 0 indica que el modelo de regresión no explicó gran parte de la variabilidad en el resultado."
   ]
  },
  {
   "cell_type": "code",
   "execution_count": 18,
   "metadata": {
    "ExecuteTime": {
     "end_time": "2020-07-08T16:10:48.619012Z",
     "start_time": "2020-07-08T16:10:48.600015Z"
    }
   },
   "outputs": [
    {
     "name": "stdout",
     "output_type": "stream",
     "text": [
      "R2 coefficient of determination: 0.6213181732230721\n"
     ]
    }
   ],
   "source": [
    "r_sq = lm.score(X_test, y_test)\n",
    "\n",
    "print('R2 coefficient of determination:', r_sq)"
   ]
  },
  {
   "cell_type": "markdown",
   "metadata": {},
   "source": [
    "## Resumen\n",
    "Después de calcular un modelo de regresión, un primer paso es verificar si, al menos, un predictor está significativamente asociado con las variables de resultado.\n",
    "\n",
    "Si uno o más predictores son significativos, el segundo paso es evaluar qué tan bueno es el modelo se ajustandose a los datos mediante la inspección del error estándar residual (RSE), el valor R2 y las estadísticas F. Estas métricas dan la calidad general del modelo.\n",
    "\n",
    "* RSE: más cerca de cero, mejor\n",
    "* R-Squared: cuanto más alto mejor\n",
    "\n",
    "\n",
    "## Evaluación de las Predicciones\n",
    "\n",
    "En este momomento vamos a evaluar que tan bueno es el modelo haciendo predicciones sobre datos que no ha visto nunca. Para eso hemos reservado los datos de test.\n",
    "\n",
    "Pasos a seguir:\n",
    "\n",
    "* Predecir sales en funcion de las inversiones que existen en los datos de test.\n",
    "* Evaluar el rendimiento del modelo calculando:\n",
    "    - RMSE (Root Mean Squared Error): representa la media de las diferencias entre lo predicho y lo observado Mejor cuanto más pequeño.\n",
    "    - R-square o R2: representa la correlación entre lo predicho y lo observado. Mejor cuanto más grande."
   ]
  },
  {
   "cell_type": "code",
   "execution_count": 19,
   "metadata": {
    "ExecuteTime": {
     "end_time": "2020-07-08T16:10:48.635013Z",
     "start_time": "2020-07-08T16:10:48.621017Z"
    }
   },
   "outputs": [
    {
     "data": {
      "text/plain": [
       "14.651234338045574"
      ]
     },
     "execution_count": 19,
     "metadata": {},
     "output_type": "execute_result"
    }
   ],
   "source": [
    "y_predict = lm.predict(X_test)\n",
    "\n",
    "RMSE = mean_squared_error(y_test, y_predict, squared=True)\n",
    "RMSE"
   ]
  },
  {
   "cell_type": "code",
   "execution_count": 20,
   "metadata": {
    "ExecuteTime": {
     "end_time": "2020-07-08T16:10:48.646016Z",
     "start_time": "2020-07-08T16:10:48.638012Z"
    }
   },
   "outputs": [
    {
     "data": {
      "text/plain": [
       "0.6213181732230721"
      ]
     },
     "execution_count": 20,
     "metadata": {},
     "output_type": "execute_result"
    }
   ],
   "source": [
    "from sklearn.metrics import r2_score\n",
    "\n",
    "R2 = r2_score(y_test, y_predict)\n",
    "R2"
   ]
  }
 ],
 "metadata": {
  "kernelspec": {
   "display_name": "Python 3",
   "language": "python",
   "name": "python3"
  },
  "language_info": {
   "codemirror_mode": {
    "name": "ipython",
    "version": 3
   },
   "file_extension": ".py",
   "mimetype": "text/x-python",
   "name": "python",
   "nbconvert_exporter": "python",
   "pygments_lexer": "ipython3",
   "version": "3.7.7"
  }
 },
 "nbformat": 4,
 "nbformat_minor": 2
}
