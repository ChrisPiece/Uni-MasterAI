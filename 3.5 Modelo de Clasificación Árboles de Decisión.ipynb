{
 "cells": [
  {
   "cell_type": "markdown",
   "metadata": {},
   "source": [
    "# 3.5 Modelo de Clasificación Árbol de Decisión\n",
    "\n",
    "### Miguel Ángel Jiménez Cuadrillero\n",
    "### 2020\n",
    "\n",
    "\n",
    "## Algoritmos de árbol: ID3, C4.5, C5.0 y CART \n",
    "\n",
    "¿Cuáles son los diversos algoritmos de árbol de decisión y cómo se diferencian entre sí? ¿Cuál se implementa en scikit-learn?\n",
    "\n",
    "ID3 (dicotomizador iterativo 3) fue desarrollado en 1986 por Ross Quinlan. El algoritmo crea un árbol de múltiples vías, encontrando para cada nodo (es decir, de manera codiciosa) la característica categórica que generará la mayor ganancia de información para objetivos categóricos. Los árboles crecen hasta su tamaño máximo y luego se aplica un paso de poda para mejorar la capacidad del árbol de generalizar a datos no vistos.\n",
    "\n",
    "C4.5 es el sucesor de ID3 y eliminó la restricción de que las características deben ser categóricas definiendo dinámicamente un atributo discreto (basado en variables numéricas) que divide el valor del atributo continuo en un conjunto discreto de intervalos. C4.5 convierte los árboles entrenados (es decir, la salida del algoritmo ID3) en conjuntos de reglas si-entonces. Luego se evalúa la precisión de cada regla para determinar el orden en que deben aplicarse. La poda se realiza eliminando la condición previa de una regla si la precisión de la regla mejora sin ella.\n",
    "\n",
    "C5.0 es el último lanzamiento de la versión de Quinlan bajo una licencia patentada. Utiliza menos memoria y crea conjuntos de reglas más pequeños que C4.5 a la vez que es más preciso.\n",
    "\n",
    "CART (Árboles de clasificación y regresión) es muy similar a C4.5, pero difiere en que admite variables objetivo numéricas (regresión) y no calcula conjuntos de reglas. CART construye árboles binarios usando la característica y el umbral que producen la mayor ganancia de información en cada nodo.\n",
    "\n",
    "scikit-learn utiliza una versión optimizada del algoritmo CART; sin embargo, la implementación de scikit-learn no admite variables categóricas por ahora.\n",
    "\n",
    "*OBJETIVO*: Predecir la especie de flor en función de sus características. Es un problema de clasificación, no de regresión, por lo tanto se evalúa de una forma distinta.\n",
    "\n",
    "## Carga de Datos"
   ]
  },
  {
   "cell_type": "code",
   "execution_count": 2,
   "metadata": {
    "ExecuteTime": {
     "end_time": "2020-07-07T04:15:00.629307Z",
     "start_time": "2020-07-07T04:14:40.477141Z"
    }
   },
   "outputs": [
    {
     "data": {
      "text/plain": [
       "<Figure size 1440x360 with 0 Axes>"
      ]
     },
     "metadata": {},
     "output_type": "display_data"
    }
   ],
   "source": [
    "import pandas as pd\n",
    "import numpy as np  \n",
    "import seaborn as sns\n",
    "import matplotlib.pyplot as plt\n",
    "%matplotlib inline \n",
    "import warnings\n",
    "from sklearn.model_selection import train_test_split\n",
    "plt.figure(figsize=(20,5))\n",
    "\n",
    "random_state = 123\n",
    "\n",
    "from sklearn import datasets"
   ]
  },
  {
   "cell_type": "code",
   "execution_count": 4,
   "metadata": {
    "ExecuteTime": {
     "end_time": "2020-07-07T04:18:55.470878Z",
     "start_time": "2020-07-07T04:18:55.452906Z"
    }
   },
   "outputs": [],
   "source": [
    "df = pd.read_csv(\"./datasets/iris.csv\", sep=',')"
   ]
  },
  {
   "cell_type": "markdown",
   "metadata": {},
   "source": [
    "## Análisis Exploratorio de Datos"
   ]
  },
  {
   "cell_type": "code",
   "execution_count": 5,
   "metadata": {
    "ExecuteTime": {
     "end_time": "2020-07-07T04:19:00.458337Z",
     "start_time": "2020-07-07T04:19:00.452331Z"
    }
   },
   "outputs": [
    {
     "data": {
      "text/plain": [
       "sepal_length    float64\n",
       "sepal_width     float64\n",
       "petal_length    float64\n",
       "petal_width     float64\n",
       "species          object\n",
       "dtype: object"
      ]
     },
     "execution_count": 5,
     "metadata": {},
     "output_type": "execute_result"
    }
   ],
   "source": [
    "df.dtypes"
   ]
  },
  {
   "cell_type": "code",
   "execution_count": 6,
   "metadata": {
    "ExecuteTime": {
     "end_time": "2020-07-07T04:19:00.912916Z",
     "start_time": "2020-07-07T04:19:00.900915Z"
    }
   },
   "outputs": [
    {
     "data": {
      "text/html": [
       "<div>\n",
       "<style scoped>\n",
       "    .dataframe tbody tr th:only-of-type {\n",
       "        vertical-align: middle;\n",
       "    }\n",
       "\n",
       "    .dataframe tbody tr th {\n",
       "        vertical-align: top;\n",
       "    }\n",
       "\n",
       "    .dataframe thead th {\n",
       "        text-align: right;\n",
       "    }\n",
       "</style>\n",
       "<table border=\"1\" class=\"dataframe\">\n",
       "  <thead>\n",
       "    <tr style=\"text-align: right;\">\n",
       "      <th></th>\n",
       "      <th>sepal_length</th>\n",
       "      <th>sepal_width</th>\n",
       "      <th>petal_length</th>\n",
       "      <th>petal_width</th>\n",
       "      <th>species</th>\n",
       "    </tr>\n",
       "  </thead>\n",
       "  <tbody>\n",
       "    <tr>\n",
       "      <th>0</th>\n",
       "      <td>5.1</td>\n",
       "      <td>3.5</td>\n",
       "      <td>1.4</td>\n",
       "      <td>0.2</td>\n",
       "      <td>setosa</td>\n",
       "    </tr>\n",
       "    <tr>\n",
       "      <th>1</th>\n",
       "      <td>4.9</td>\n",
       "      <td>3.0</td>\n",
       "      <td>1.4</td>\n",
       "      <td>0.2</td>\n",
       "      <td>setosa</td>\n",
       "    </tr>\n",
       "    <tr>\n",
       "      <th>2</th>\n",
       "      <td>4.7</td>\n",
       "      <td>3.2</td>\n",
       "      <td>1.3</td>\n",
       "      <td>0.2</td>\n",
       "      <td>setosa</td>\n",
       "    </tr>\n",
       "    <tr>\n",
       "      <th>3</th>\n",
       "      <td>4.6</td>\n",
       "      <td>3.1</td>\n",
       "      <td>1.5</td>\n",
       "      <td>0.2</td>\n",
       "      <td>setosa</td>\n",
       "    </tr>\n",
       "    <tr>\n",
       "      <th>4</th>\n",
       "      <td>5.0</td>\n",
       "      <td>3.6</td>\n",
       "      <td>1.4</td>\n",
       "      <td>0.2</td>\n",
       "      <td>setosa</td>\n",
       "    </tr>\n",
       "  </tbody>\n",
       "</table>\n",
       "</div>"
      ],
      "text/plain": [
       "   sepal_length  sepal_width  petal_length  petal_width species\n",
       "0           5.1          3.5           1.4          0.2  setosa\n",
       "1           4.9          3.0           1.4          0.2  setosa\n",
       "2           4.7          3.2           1.3          0.2  setosa\n",
       "3           4.6          3.1           1.5          0.2  setosa\n",
       "4           5.0          3.6           1.4          0.2  setosa"
      ]
     },
     "execution_count": 6,
     "metadata": {},
     "output_type": "execute_result"
    }
   ],
   "source": [
    "df.head()"
   ]
  },
  {
   "cell_type": "code",
   "execution_count": 7,
   "metadata": {
    "ExecuteTime": {
     "end_time": "2020-07-07T04:19:01.318141Z",
     "start_time": "2020-07-07T04:19:01.307105Z"
    }
   },
   "outputs": [
    {
     "data": {
      "text/html": [
       "<div>\n",
       "<style scoped>\n",
       "    .dataframe tbody tr th:only-of-type {\n",
       "        vertical-align: middle;\n",
       "    }\n",
       "\n",
       "    .dataframe tbody tr th {\n",
       "        vertical-align: top;\n",
       "    }\n",
       "\n",
       "    .dataframe thead th {\n",
       "        text-align: right;\n",
       "    }\n",
       "</style>\n",
       "<table border=\"1\" class=\"dataframe\">\n",
       "  <thead>\n",
       "    <tr style=\"text-align: right;\">\n",
       "      <th></th>\n",
       "      <th>sepal_length</th>\n",
       "      <th>sepal_width</th>\n",
       "      <th>petal_length</th>\n",
       "      <th>petal_width</th>\n",
       "      <th>species</th>\n",
       "    </tr>\n",
       "  </thead>\n",
       "  <tbody>\n",
       "    <tr>\n",
       "      <th>145</th>\n",
       "      <td>6.7</td>\n",
       "      <td>3.0</td>\n",
       "      <td>5.2</td>\n",
       "      <td>2.3</td>\n",
       "      <td>virginica</td>\n",
       "    </tr>\n",
       "    <tr>\n",
       "      <th>146</th>\n",
       "      <td>6.3</td>\n",
       "      <td>2.5</td>\n",
       "      <td>5.0</td>\n",
       "      <td>1.9</td>\n",
       "      <td>virginica</td>\n",
       "    </tr>\n",
       "    <tr>\n",
       "      <th>147</th>\n",
       "      <td>6.5</td>\n",
       "      <td>3.0</td>\n",
       "      <td>5.2</td>\n",
       "      <td>2.0</td>\n",
       "      <td>virginica</td>\n",
       "    </tr>\n",
       "    <tr>\n",
       "      <th>148</th>\n",
       "      <td>6.2</td>\n",
       "      <td>3.4</td>\n",
       "      <td>5.4</td>\n",
       "      <td>2.3</td>\n",
       "      <td>virginica</td>\n",
       "    </tr>\n",
       "    <tr>\n",
       "      <th>149</th>\n",
       "      <td>5.9</td>\n",
       "      <td>3.0</td>\n",
       "      <td>5.1</td>\n",
       "      <td>1.8</td>\n",
       "      <td>virginica</td>\n",
       "    </tr>\n",
       "  </tbody>\n",
       "</table>\n",
       "</div>"
      ],
      "text/plain": [
       "     sepal_length  sepal_width  petal_length  petal_width    species\n",
       "145           6.7          3.0           5.2          2.3  virginica\n",
       "146           6.3          2.5           5.0          1.9  virginica\n",
       "147           6.5          3.0           5.2          2.0  virginica\n",
       "148           6.2          3.4           5.4          2.3  virginica\n",
       "149           5.9          3.0           5.1          1.8  virginica"
      ]
     },
     "execution_count": 7,
     "metadata": {},
     "output_type": "execute_result"
    }
   ],
   "source": [
    "df.tail()"
   ]
  },
  {
   "cell_type": "markdown",
   "metadata": {},
   "source": [
    "## Estudio numérico de datos"
   ]
  },
  {
   "cell_type": "code",
   "execution_count": 8,
   "metadata": {
    "ExecuteTime": {
     "end_time": "2020-07-07T04:19:02.287630Z",
     "start_time": "2020-07-07T04:19:02.261790Z"
    }
   },
   "outputs": [
    {
     "data": {
      "text/html": [
       "<div>\n",
       "<style scoped>\n",
       "    .dataframe tbody tr th:only-of-type {\n",
       "        vertical-align: middle;\n",
       "    }\n",
       "\n",
       "    .dataframe tbody tr th {\n",
       "        vertical-align: top;\n",
       "    }\n",
       "\n",
       "    .dataframe thead th {\n",
       "        text-align: right;\n",
       "    }\n",
       "</style>\n",
       "<table border=\"1\" class=\"dataframe\">\n",
       "  <thead>\n",
       "    <tr style=\"text-align: right;\">\n",
       "      <th></th>\n",
       "      <th>sepal_length</th>\n",
       "      <th>sepal_width</th>\n",
       "      <th>petal_length</th>\n",
       "      <th>petal_width</th>\n",
       "    </tr>\n",
       "  </thead>\n",
       "  <tbody>\n",
       "    <tr>\n",
       "      <th>count</th>\n",
       "      <td>150.000000</td>\n",
       "      <td>150.000000</td>\n",
       "      <td>150.000000</td>\n",
       "      <td>150.000000</td>\n",
       "    </tr>\n",
       "    <tr>\n",
       "      <th>mean</th>\n",
       "      <td>5.843333</td>\n",
       "      <td>3.054000</td>\n",
       "      <td>3.758667</td>\n",
       "      <td>1.198667</td>\n",
       "    </tr>\n",
       "    <tr>\n",
       "      <th>std</th>\n",
       "      <td>0.828066</td>\n",
       "      <td>0.433594</td>\n",
       "      <td>1.764420</td>\n",
       "      <td>0.763161</td>\n",
       "    </tr>\n",
       "    <tr>\n",
       "      <th>min</th>\n",
       "      <td>4.300000</td>\n",
       "      <td>2.000000</td>\n",
       "      <td>1.000000</td>\n",
       "      <td>0.100000</td>\n",
       "    </tr>\n",
       "    <tr>\n",
       "      <th>25%</th>\n",
       "      <td>5.100000</td>\n",
       "      <td>2.800000</td>\n",
       "      <td>1.600000</td>\n",
       "      <td>0.300000</td>\n",
       "    </tr>\n",
       "    <tr>\n",
       "      <th>50%</th>\n",
       "      <td>5.800000</td>\n",
       "      <td>3.000000</td>\n",
       "      <td>4.350000</td>\n",
       "      <td>1.300000</td>\n",
       "    </tr>\n",
       "    <tr>\n",
       "      <th>75%</th>\n",
       "      <td>6.400000</td>\n",
       "      <td>3.300000</td>\n",
       "      <td>5.100000</td>\n",
       "      <td>1.800000</td>\n",
       "    </tr>\n",
       "    <tr>\n",
       "      <th>max</th>\n",
       "      <td>7.900000</td>\n",
       "      <td>4.400000</td>\n",
       "      <td>6.900000</td>\n",
       "      <td>2.500000</td>\n",
       "    </tr>\n",
       "  </tbody>\n",
       "</table>\n",
       "</div>"
      ],
      "text/plain": [
       "       sepal_length  sepal_width  petal_length  petal_width\n",
       "count    150.000000   150.000000    150.000000   150.000000\n",
       "mean       5.843333     3.054000      3.758667     1.198667\n",
       "std        0.828066     0.433594      1.764420     0.763161\n",
       "min        4.300000     2.000000      1.000000     0.100000\n",
       "25%        5.100000     2.800000      1.600000     0.300000\n",
       "50%        5.800000     3.000000      4.350000     1.300000\n",
       "75%        6.400000     3.300000      5.100000     1.800000\n",
       "max        7.900000     4.400000      6.900000     2.500000"
      ]
     },
     "execution_count": 8,
     "metadata": {},
     "output_type": "execute_result"
    }
   ],
   "source": [
    "df.describe()"
   ]
  },
  {
   "cell_type": "markdown",
   "metadata": {},
   "source": [
    "## Visualización de Datos\n",
    "\n",
    "Representamos scatterplots de las variables dos a dos. En la diagonal tenemos el histograma de la variable en cuestión."
   ]
  },
  {
   "cell_type": "code",
   "execution_count": 9,
   "metadata": {
    "ExecuteTime": {
     "end_time": "2020-07-07T04:21:12.679986Z",
     "start_time": "2020-07-07T04:21:12.181909Z"
    }
   },
   "outputs": [
    {
     "data": {
      "text/plain": [
       "<seaborn.axisgrid.FacetGrid at 0x22e3fc32088>"
      ]
     },
     "execution_count": 9,
     "metadata": {},
     "output_type": "execute_result"
    },
    {
     "data": {
      "image/png": "[encoded data removed]",
      "text/plain": [
       "<Figure size 511.125x432 with 1 Axes>"
      ]
     },
     "metadata": {},
     "output_type": "display_data"
    }
   ],
   "source": [
    "sns.set_style(\"whitegrid\") \n",
    "  \n",
    "sns.FacetGrid(df, hue =\"species\", height = 6).map(plt.scatter, 'sepal_length', 'sepal_width').add_legend() "
   ]
  },
  {
   "cell_type": "markdown",
   "metadata": {},
   "source": [
    "## Interpretación preliminar\n",
    "\n",
    "\n",
    "En el gráfico anterior vemos que hay una relacion entre las especies y sus tamaños aunque hay zonas donde la región de decisión no está muy clara."
   ]
  },
  {
   "cell_type": "markdown",
   "metadata": {},
   "source": [
    "## Entrenamiento del Modelo\n",
    "\n",
    "\n",
    "\n",
    "## Selección de Features y Label\n",
    "\n",
    "La fórmula de la función f(X) = y que queremos ajustar mediante un modelo de LDA sobre los datos es Species ~ . en formato R, es decir, utilizar todas las variables disponibles para predecir la especiel, en scikit-learn sólo tendremos que separar el target o label a predecir.\n",
    "\n",
    "\n",
    "## División Train/Test\n"
   ]
  },
  {
   "cell_type": "code",
   "execution_count": 10,
   "metadata": {
    "ExecuteTime": {
     "end_time": "2020-07-07T05:11:52.948843Z",
     "start_time": "2020-07-07T05:11:52.940336Z"
    }
   },
   "outputs": [],
   "source": [
    "df = pd.read_csv(\"./datasets/iris.csv\", sep=',')\n",
    "\n",
    "y = df.pop('species').values\n",
    "X = df.values\n",
    "\n",
    "X_train, X_test, y_train, y_test = train_test_split(X, y, test_size=0.8, random_state=random_state)"
   ]
  },
  {
   "cell_type": "markdown",
   "metadata": {},
   "source": [
    "## Configuración del Modelo\n",
    "\n",
    "Los predictores de entrada en este caso no se establecen como una formula si no que asume que son todas las columnas que se le pase al método fit.\n",
    "\n",
    "Se realiza un encoding de la label\n",
    "\n",
    "https://scikit-learn.org/stable/modules/generated/sklearn.preprocessing.LabelEncoder.html\n"
   ]
  },
  {
   "cell_type": "code",
   "execution_count": 11,
   "metadata": {
    "ExecuteTime": {
     "end_time": "2020-07-07T05:11:54.402586Z",
     "start_time": "2020-07-07T05:11:54.394601Z"
    }
   },
   "outputs": [
    {
     "name": "stdout",
     "output_type": "stream",
     "text": [
      "['setosa' 'setosa' 'setosa' 'setosa' 'setosa' 'setosa' 'setosa' 'setosa'\n",
      " 'setosa' 'setosa' 'setosa' 'setosa' 'setosa' 'setosa' 'setosa' 'setosa'\n",
      " 'setosa' 'setosa' 'setosa' 'setosa' 'setosa' 'setosa' 'setosa' 'setosa'\n",
      " 'setosa' 'setosa' 'setosa' 'setosa' 'setosa' 'setosa' 'setosa' 'setosa'\n",
      " 'setosa' 'setosa' 'setosa' 'setosa' 'setosa' 'setosa' 'setosa' 'setosa'\n",
      " 'setosa' 'setosa' 'setosa' 'setosa' 'setosa' 'setosa' 'setosa' 'setosa'\n",
      " 'setosa' 'setosa' 'versicolor' 'versicolor' 'versicolor' 'versicolor'\n",
      " 'versicolor' 'versicolor' 'versicolor' 'versicolor' 'versicolor'\n",
      " 'versicolor' 'versicolor' 'versicolor' 'versicolor' 'versicolor'\n",
      " 'versicolor' 'versicolor' 'versicolor' 'versicolor' 'versicolor'\n",
      " 'versicolor' 'versicolor' 'versicolor' 'versicolor' 'versicolor'\n",
      " 'versicolor' 'versicolor' 'versicolor' 'versicolor' 'versicolor'\n",
      " 'versicolor' 'versicolor' 'versicolor' 'versicolor' 'versicolor'\n",
      " 'versicolor' 'versicolor' 'versicolor' 'versicolor' 'versicolor'\n",
      " 'versicolor' 'versicolor' 'versicolor' 'versicolor' 'versicolor'\n",
      " 'versicolor' 'versicolor' 'versicolor' 'versicolor' 'versicolor'\n",
      " 'versicolor' 'virginica' 'virginica' 'virginica' 'virginica' 'virginica'\n",
      " 'virginica' 'virginica' 'virginica' 'virginica' 'virginica' 'virginica'\n",
      " 'virginica' 'virginica' 'virginica' 'virginica' 'virginica' 'virginica'\n",
      " 'virginica' 'virginica' 'virginica' 'virginica' 'virginica' 'virginica'\n",
      " 'virginica' 'virginica' 'virginica' 'virginica' 'virginica' 'virginica'\n",
      " 'virginica' 'virginica' 'virginica' 'virginica' 'virginica' 'virginica'\n",
      " 'virginica' 'virginica' 'virginica' 'virginica' 'virginica' 'virginica'\n",
      " 'virginica' 'virginica' 'virginica' 'virginica' 'virginica' 'virginica'\n",
      " 'virginica' 'virginica' 'virginica']\n",
      "[0 0 0 0 0 0 0 0 0 0 0 0 0 0 0 0 0 0 0 0 0 0 0 0 0 0 0 0 0 0 0 0 0 0 0 0 0\n",
      " 0 0 0 0 0 0 0 0 0 0 0 0 0 1 1 1 1 1 1 1 1 1 1 1 1 1 1 1 1 1 1 1 1 1 1 1 1\n",
      " 1 1 1 1 1 1 1 1 1 1 1 1 1 1 1 1 1 1 1 1 1 1 1 1 1 1 2 2 2 2 2 2 2 2 2 2 2\n",
      " 2 2 2 2 2 2 2 2 2 2 2 2 2 2 2 2 2 2 2 2 2 2 2 2 2 2 2 2 2 2 2 2 2 2 2 2 2\n",
      " 2 2]\n"
     ]
    }
   ],
   "source": [
    "from sklearn.preprocessing import LabelEncoder\n",
    "\n",
    "le = LabelEncoder()\n",
    "print(y)\n",
    "y = le.fit_transform(y)\n",
    "print(y)\n",
    "y_test = le.transform(y_test)\n",
    "y_train = le.transform(y_train)"
   ]
  },
  {
   "cell_type": "code",
   "execution_count": 51,
   "metadata": {
    "ExecuteTime": {
     "end_time": "2020-07-07T05:17:17.998851Z",
     "start_time": "2020-07-07T05:17:17.992823Z"
    }
   },
   "outputs": [],
   "source": [
    "from sklearn.tree import DecisionTreeClassifier\n",
    "\n",
    "tree = DecisionTreeClassifier(random_state=random_state)\n",
    "tree = tree.fit(X, y)"
   ]
  },
  {
   "cell_type": "markdown",
   "metadata": {},
   "source": [
    "### Evaluación del Ajuste del Modelo\n",
    "\n",
    "Validamos el ajuste del modelo a los datos de entrenamiento. Esto sólo nos sirve para descartar situaciones en las que ni con los propios datos de entrenamiento se ajusta el modelo, es decir, que los datos no tienen ninguna capacidad predictiva.\n",
    "\n",
    "En este caso siendo el accuracy tan alto y sabiendo que los árboles se ajustan mucho a los datos de entrenamiento, estamos ante un caso de overfitting, más adelante veremos como tratar esta situación."
   ]
  },
  {
   "cell_type": "code",
   "execution_count": 53,
   "metadata": {},
   "outputs": [
    {
     "name": "stdout",
     "output_type": "stream",
     "text": [
      "\n",
      "Accuracy 1.0\n"
     ]
    }
   ],
   "source": [
    "from sklearn.metrics import confusion_matrix\n",
    "from sklearn.metrics import accuracy_score\n",
    "\n",
    "y_pred = tree.predict(X)\n",
    "\n",
    "print('\\nAccuracy ' + str(accuracy_score(y, y_pred)))"
   ]
  },
  {
   "cell_type": "code",
   "execution_count": 54,
   "metadata": {},
   "outputs": [
    {
     "data": {
      "text/plain": [
       "array([0.96666667, 0.96666667, 0.9       , 0.96666667, 1.        ])"
      ]
     },
     "execution_count": 54,
     "metadata": {},
     "output_type": "execute_result"
    }
   ],
   "source": [
    "from sklearn.model_selection import cross_val_score\n",
    "scores = cross_val_score(tree, X, y, cv=5)\n",
    "scores"
   ]
  },
  {
   "cell_type": "markdown",
   "metadata": {},
   "source": [
    "## Representación gráfica del árbol\n",
    "\n",
    "Requiere un ajuste en el path para que funcione. Además hay que instalar la libreria Graphviz del siguiente enlace:\n",
    "\n",
    "https://graphviz.gitlab.io/_pages/Download/Download_windows.html"
   ]
  },
  {
   "cell_type": "code",
   "execution_count": 55,
   "metadata": {},
   "outputs": [],
   "source": [
    "import os\n",
    "os.environ[\"PATH\"] += os.pathsep + 'C:/Program Files (x86)/Graphviz2.38/bin/'"
   ]
  },
  {
   "cell_type": "code",
   "execution_count": 57,
   "metadata": {},
   "outputs": [
    {
     "data": {
      "image/svg+xml": [
       "<?xml version=\"1.0\" encoding=\"UTF-8\" standalone=\"no\"?>\r\n",
       "<!DOCTYPE svg PUBLIC \"-//W3C//DTD SVG 1.1//EN\"\r\n",
       " \"http://www.w3.org/Graphics/SVG/1.1/DTD/svg11.dtd\">\r\n",
       "<!-- Generated by graphviz version 2.38.0 (20140413.2041)\r\n",
       " -->\r\n",
       "<!-- Title: Tree Pages: 1 -->\r\n",
       "<svg width=\"743pt\" height=\"581pt\"\r\n",
       " viewBox=\"0.00 0.00 743.00 581.00\" xmlns=\"http://www.w3.org/2000/svg\" xmlns:xlink=\"http://www.w3.org/1999/xlink\">\r\n",
       "<g id=\"graph0\" class=\"graph\" transform=\"scale(1 1) rotate(0) translate(4 577)\">\r\n",
       "<title>Tree</title>\r\n",
       "<polygon fill=\"white\" stroke=\"none\" points=\"-4,4 -4,-577 739,-577 739,4 -4,4\"/>\r\n",
       "<!-- 0 -->\r\n",
       "<g id=\"node1\" class=\"node\"><title>0</title>\r\n",
       "<polygon fill=\"none\" stroke=\"black\" points=\"454.5,-573 329.5,-573 329.5,-505 454.5,-505 454.5,-573\"/>\r\n",
       "<text text-anchor=\"middle\" x=\"392\" y=\"-557.8\" font-family=\"Times New Roman,serif\" font-size=\"14.00\">X[2] &lt;= 2.45</text>\r\n",
       "<text text-anchor=\"middle\" x=\"392\" y=\"-542.8\" font-family=\"Times New Roman,serif\" font-size=\"14.00\">gini = 0.667</text>\r\n",
       "<text text-anchor=\"middle\" x=\"392\" y=\"-527.8\" font-family=\"Times New Roman,serif\" font-size=\"14.00\">samples = 150</text>\r\n",
       "<text text-anchor=\"middle\" x=\"392\" y=\"-512.8\" font-family=\"Times New Roman,serif\" font-size=\"14.00\">value = [50, 50, 50]</text>\r\n",
       "</g>\r\n",
       "<!-- 1 -->\r\n",
       "<g id=\"node2\" class=\"node\"><title>1</title>\r\n",
       "<polygon fill=\"none\" stroke=\"black\" points=\"381,-461.5 269,-461.5 269,-408.5 381,-408.5 381,-461.5\"/>\r\n",
       "<text text-anchor=\"middle\" x=\"325\" y=\"-446.3\" font-family=\"Times New Roman,serif\" font-size=\"14.00\">gini = 0.0</text>\r\n",
       "<text text-anchor=\"middle\" x=\"325\" y=\"-431.3\" font-family=\"Times New Roman,serif\" font-size=\"14.00\">samples = 50</text>\r\n",
       "<text text-anchor=\"middle\" x=\"325\" y=\"-416.3\" font-family=\"Times New Roman,serif\" font-size=\"14.00\">value = [50, 0, 0]</text>\r\n",
       "</g>\r\n",
       "<!-- 0&#45;&gt;1 -->\r\n",
       "<g id=\"edge1\" class=\"edge\"><title>0&#45;&gt;1</title>\r\n",
       "<path fill=\"none\" stroke=\"black\" d=\"M370.247,-504.884C362.951,-493.776 354.803,-481.372 347.454,-470.184\"/>\r\n",
       "<polygon fill=\"black\" stroke=\"black\" points=\"350.179,-467.957 341.763,-461.52 344.328,-471.8 350.179,-467.957\"/>\r\n",
       "<text text-anchor=\"middle\" x=\"336.693\" y=\"-482.3\" font-family=\"Times New Roman,serif\" font-size=\"14.00\">True</text>\r\n",
       "</g>\r\n",
       "<!-- 2 -->\r\n",
       "<g id=\"node3\" class=\"node\"><title>2</title>\r\n",
       "<polygon fill=\"none\" stroke=\"black\" points=\"518.5,-469 399.5,-469 399.5,-401 518.5,-401 518.5,-469\"/>\r\n",
       "<text text-anchor=\"middle\" x=\"459\" y=\"-453.8\" font-family=\"Times New Roman,serif\" font-size=\"14.00\">X[3] &lt;= 1.75</text>\r\n",
       "<text text-anchor=\"middle\" x=\"459\" y=\"-438.8\" font-family=\"Times New Roman,serif\" font-size=\"14.00\">gini = 0.5</text>\r\n",
       "<text text-anchor=\"middle\" x=\"459\" y=\"-423.8\" font-family=\"Times New Roman,serif\" font-size=\"14.00\">samples = 100</text>\r\n",
       "<text text-anchor=\"middle\" x=\"459\" y=\"-408.8\" font-family=\"Times New Roman,serif\" font-size=\"14.00\">value = [0, 50, 50]</text>\r\n",
       "</g>\r\n",
       "<!-- 0&#45;&gt;2 -->\r\n",
       "<g id=\"edge2\" class=\"edge\"><title>0&#45;&gt;2</title>\r\n",
       "<path fill=\"none\" stroke=\"black\" d=\"M413.753,-504.884C419.428,-496.243 425.619,-486.819 431.548,-477.793\"/>\r\n",
       "<polygon fill=\"black\" stroke=\"black\" points=\"434.562,-479.579 437.127,-469.299 428.711,-475.736 434.562,-479.579\"/>\r\n",
       "<text text-anchor=\"middle\" x=\"442.197\" y=\"-490.08\" font-family=\"Times New Roman,serif\" font-size=\"14.00\">False</text>\r\n",
       "</g>\r\n",
       "<!-- 3 -->\r\n",
       "<g id=\"node4\" class=\"node\"><title>3</title>\r\n",
       "<polygon fill=\"none\" stroke=\"black\" points=\"422,-365 310,-365 310,-297 422,-297 422,-365\"/>\r\n",
       "<text text-anchor=\"middle\" x=\"366\" y=\"-349.8\" font-family=\"Times New Roman,serif\" font-size=\"14.00\">X[2] &lt;= 4.95</text>\r\n",
       "<text text-anchor=\"middle\" x=\"366\" y=\"-334.8\" font-family=\"Times New Roman,serif\" font-size=\"14.00\">gini = 0.168</text>\r\n",
       "<text text-anchor=\"middle\" x=\"366\" y=\"-319.8\" font-family=\"Times New Roman,serif\" font-size=\"14.00\">samples = 54</text>\r\n",
       "<text text-anchor=\"middle\" x=\"366\" y=\"-304.8\" font-family=\"Times New Roman,serif\" font-size=\"14.00\">value = [0, 49, 5]</text>\r\n",
       "</g>\r\n",
       "<!-- 2&#45;&gt;3 -->\r\n",
       "<g id=\"edge3\" class=\"edge\"><title>2&#45;&gt;3</title>\r\n",
       "<path fill=\"none\" stroke=\"black\" d=\"M428.806,-400.884C420.684,-391.976 411.803,-382.235 403.343,-372.957\"/>\r\n",
       "<polygon fill=\"black\" stroke=\"black\" points=\"405.685,-370.331 396.361,-365.299 400.512,-375.047 405.685,-370.331\"/>\r\n",
       "</g>\r\n",
       "<!-- 12 -->\r\n",
       "<g id=\"node13\" class=\"node\"><title>12</title>\r\n",
       "<polygon fill=\"none\" stroke=\"black\" points=\"608,-365 496,-365 496,-297 608,-297 608,-365\"/>\r\n",
       "<text text-anchor=\"middle\" x=\"552\" y=\"-349.8\" font-family=\"Times New Roman,serif\" font-size=\"14.00\">X[2] &lt;= 4.85</text>\r\n",
       "<text text-anchor=\"middle\" x=\"552\" y=\"-334.8\" font-family=\"Times New Roman,serif\" font-size=\"14.00\">gini = 0.043</text>\r\n",
       "<text text-anchor=\"middle\" x=\"552\" y=\"-319.8\" font-family=\"Times New Roman,serif\" font-size=\"14.00\">samples = 46</text>\r\n",
       "<text text-anchor=\"middle\" x=\"552\" y=\"-304.8\" font-family=\"Times New Roman,serif\" font-size=\"14.00\">value = [0, 1, 45]</text>\r\n",
       "</g>\r\n",
       "<!-- 2&#45;&gt;12 -->\r\n",
       "<g id=\"edge12\" class=\"edge\"><title>2&#45;&gt;12</title>\r\n",
       "<path fill=\"none\" stroke=\"black\" d=\"M489.194,-400.884C497.316,-391.976 506.197,-382.235 514.657,-372.957\"/>\r\n",
       "<polygon fill=\"black\" stroke=\"black\" points=\"517.488,-375.047 521.639,-365.299 512.315,-370.331 517.488,-375.047\"/>\r\n",
       "</g>\r\n",
       "<!-- 4 -->\r\n",
       "<g id=\"node5\" class=\"node\"><title>4</title>\r\n",
       "<polygon fill=\"none\" stroke=\"black\" points=\"239,-261 127,-261 127,-193 239,-193 239,-261\"/>\r\n",
       "<text text-anchor=\"middle\" x=\"183\" y=\"-245.8\" font-family=\"Times New Roman,serif\" font-size=\"14.00\">X[3] &lt;= 1.65</text>\r\n",
       "<text text-anchor=\"middle\" x=\"183\" y=\"-230.8\" font-family=\"Times New Roman,serif\" font-size=\"14.00\">gini = 0.041</text>\r\n",
       "<text text-anchor=\"middle\" x=\"183\" y=\"-215.8\" font-family=\"Times New Roman,serif\" font-size=\"14.00\">samples = 48</text>\r\n",
       "<text text-anchor=\"middle\" x=\"183\" y=\"-200.8\" font-family=\"Times New Roman,serif\" font-size=\"14.00\">value = [0, 47, 1]</text>\r\n",
       "</g>\r\n",
       "<!-- 3&#45;&gt;4 -->\r\n",
       "<g id=\"edge4\" class=\"edge\"><title>3&#45;&gt;4</title>\r\n",
       "<path fill=\"none\" stroke=\"black\" d=\"M309.601,-298.564C290.115,-287.704 268.126,-275.448 248.008,-264.234\"/>\r\n",
       "<polygon fill=\"black\" stroke=\"black\" points=\"249.652,-261.143 239.213,-259.332 246.244,-267.258 249.652,-261.143\"/>\r\n",
       "</g>\r\n",
       "<!-- 7 -->\r\n",
       "<g id=\"node8\" class=\"node\"><title>7</title>\r\n",
       "<polygon fill=\"none\" stroke=\"black\" points=\"418.5,-261 313.5,-261 313.5,-193 418.5,-193 418.5,-261\"/>\r\n",
       "<text text-anchor=\"middle\" x=\"366\" y=\"-245.8\" font-family=\"Times New Roman,serif\" font-size=\"14.00\">X[3] &lt;= 1.55</text>\r\n",
       "<text text-anchor=\"middle\" x=\"366\" y=\"-230.8\" font-family=\"Times New Roman,serif\" font-size=\"14.00\">gini = 0.444</text>\r\n",
       "<text text-anchor=\"middle\" x=\"366\" y=\"-215.8\" font-family=\"Times New Roman,serif\" font-size=\"14.00\">samples = 6</text>\r\n",
       "<text text-anchor=\"middle\" x=\"366\" y=\"-200.8\" font-family=\"Times New Roman,serif\" font-size=\"14.00\">value = [0, 2, 4]</text>\r\n",
       "</g>\r\n",
       "<!-- 3&#45;&gt;7 -->\r\n",
       "<g id=\"edge7\" class=\"edge\"><title>3&#45;&gt;7</title>\r\n",
       "<path fill=\"none\" stroke=\"black\" d=\"M366,-296.884C366,-288.778 366,-279.982 366,-271.472\"/>\r\n",
       "<polygon fill=\"black\" stroke=\"black\" points=\"369.5,-271.299 366,-261.299 362.5,-271.299 369.5,-271.299\"/>\r\n",
       "</g>\r\n",
       "<!-- 5 -->\r\n",
       "<g id=\"node6\" class=\"node\"><title>5</title>\r\n",
       "<polygon fill=\"none\" stroke=\"black\" points=\"112,-149.5 7.10543e-015,-149.5 7.10543e-015,-96.5 112,-96.5 112,-149.5\"/>\r\n",
       "<text text-anchor=\"middle\" x=\"56\" y=\"-134.3\" font-family=\"Times New Roman,serif\" font-size=\"14.00\">gini = 0.0</text>\r\n",
       "<text text-anchor=\"middle\" x=\"56\" y=\"-119.3\" font-family=\"Times New Roman,serif\" font-size=\"14.00\">samples = 47</text>\r\n",
       "<text text-anchor=\"middle\" x=\"56\" y=\"-104.3\" font-family=\"Times New Roman,serif\" font-size=\"14.00\">value = [0, 47, 0]</text>\r\n",
       "</g>\r\n",
       "<!-- 4&#45;&gt;5 -->\r\n",
       "<g id=\"edge5\" class=\"edge\"><title>4&#45;&gt;5</title>\r\n",
       "<path fill=\"none\" stroke=\"black\" d=\"M141.767,-192.884C126.978,-181.006 110.344,-167.646 95.6887,-155.876\"/>\r\n",
       "<polygon fill=\"black\" stroke=\"black\" points=\"97.7632,-153.053 87.7748,-149.52 93.3799,-158.511 97.7632,-153.053\"/>\r\n",
       "</g>\r\n",
       "<!-- 6 -->\r\n",
       "<g id=\"node7\" class=\"node\"><title>6</title>\r\n",
       "<polygon fill=\"none\" stroke=\"black\" points=\"235.5,-149.5 130.5,-149.5 130.5,-96.5 235.5,-96.5 235.5,-149.5\"/>\r\n",
       "<text text-anchor=\"middle\" x=\"183\" y=\"-134.3\" font-family=\"Times New Roman,serif\" font-size=\"14.00\">gini = 0.0</text>\r\n",
       "<text text-anchor=\"middle\" x=\"183\" y=\"-119.3\" font-family=\"Times New Roman,serif\" font-size=\"14.00\">samples = 1</text>\r\n",
       "<text text-anchor=\"middle\" x=\"183\" y=\"-104.3\" font-family=\"Times New Roman,serif\" font-size=\"14.00\">value = [0, 0, 1]</text>\r\n",
       "</g>\r\n",
       "<!-- 4&#45;&gt;6 -->\r\n",
       "<g id=\"edge6\" class=\"edge\"><title>4&#45;&gt;6</title>\r\n",
       "<path fill=\"none\" stroke=\"black\" d=\"M183,-192.884C183,-182.326 183,-170.597 183,-159.854\"/>\r\n",
       "<polygon fill=\"black\" stroke=\"black\" points=\"186.5,-159.52 183,-149.52 179.5,-159.52 186.5,-159.52\"/>\r\n",
       "</g>\r\n",
       "<!-- 8 -->\r\n",
       "<g id=\"node9\" class=\"node\"><title>8</title>\r\n",
       "<polygon fill=\"none\" stroke=\"black\" points=\"358.5,-149.5 253.5,-149.5 253.5,-96.5 358.5,-96.5 358.5,-149.5\"/>\r\n",
       "<text text-anchor=\"middle\" x=\"306\" y=\"-134.3\" font-family=\"Times New Roman,serif\" font-size=\"14.00\">gini = 0.0</text>\r\n",
       "<text text-anchor=\"middle\" x=\"306\" y=\"-119.3\" font-family=\"Times New Roman,serif\" font-size=\"14.00\">samples = 3</text>\r\n",
       "<text text-anchor=\"middle\" x=\"306\" y=\"-104.3\" font-family=\"Times New Roman,serif\" font-size=\"14.00\">value = [0, 0, 3]</text>\r\n",
       "</g>\r\n",
       "<!-- 7&#45;&gt;8 -->\r\n",
       "<g id=\"edge8\" class=\"edge\"><title>7&#45;&gt;8</title>\r\n",
       "<path fill=\"none\" stroke=\"black\" d=\"M346.52,-192.884C339.986,-181.776 332.689,-169.372 326.108,-158.184\"/>\r\n",
       "<polygon fill=\"black\" stroke=\"black\" points=\"329.099,-156.365 321.012,-149.52 323.065,-159.914 329.099,-156.365\"/>\r\n",
       "</g>\r\n",
       "<!-- 9 -->\r\n",
       "<g id=\"node10\" class=\"node\"><title>9</title>\r\n",
       "<polygon fill=\"none\" stroke=\"black\" points=\"481.5,-157 376.5,-157 376.5,-89 481.5,-89 481.5,-157\"/>\r\n",
       "<text text-anchor=\"middle\" x=\"429\" y=\"-141.8\" font-family=\"Times New Roman,serif\" font-size=\"14.00\">X[0] &lt;= 6.95</text>\r\n",
       "<text text-anchor=\"middle\" x=\"429\" y=\"-126.8\" font-family=\"Times New Roman,serif\" font-size=\"14.00\">gini = 0.444</text>\r\n",
       "<text text-anchor=\"middle\" x=\"429\" y=\"-111.8\" font-family=\"Times New Roman,serif\" font-size=\"14.00\">samples = 3</text>\r\n",
       "<text text-anchor=\"middle\" x=\"429\" y=\"-96.8\" font-family=\"Times New Roman,serif\" font-size=\"14.00\">value = [0, 2, 1]</text>\r\n",
       "</g>\r\n",
       "<!-- 7&#45;&gt;9 -->\r\n",
       "<g id=\"edge9\" class=\"edge\"><title>7&#45;&gt;9</title>\r\n",
       "<path fill=\"none\" stroke=\"black\" d=\"M386.454,-192.884C391.736,-184.332 397.492,-175.013 403.014,-166.072\"/>\r\n",
       "<polygon fill=\"black\" stroke=\"black\" points=\"406.156,-167.647 408.433,-157.299 400.2,-163.968 406.156,-167.647\"/>\r\n",
       "</g>\r\n",
       "<!-- 10 -->\r\n",
       "<g id=\"node11\" class=\"node\"><title>10</title>\r\n",
       "<polygon fill=\"none\" stroke=\"black\" points=\"419.5,-53 314.5,-53 314.5,-0 419.5,-0 419.5,-53\"/>\r\n",
       "<text text-anchor=\"middle\" x=\"367\" y=\"-37.8\" font-family=\"Times New Roman,serif\" font-size=\"14.00\">gini = 0.0</text>\r\n",
       "<text text-anchor=\"middle\" x=\"367\" y=\"-22.8\" font-family=\"Times New Roman,serif\" font-size=\"14.00\">samples = 2</text>\r\n",
       "<text text-anchor=\"middle\" x=\"367\" y=\"-7.8\" font-family=\"Times New Roman,serif\" font-size=\"14.00\">value = [0, 2, 0]</text>\r\n",
       "</g>\r\n",
       "<!-- 9&#45;&gt;10 -->\r\n",
       "<g id=\"edge10\" class=\"edge\"><title>9&#45;&gt;10</title>\r\n",
       "<path fill=\"none\" stroke=\"black\" d=\"M407.315,-88.9485C401.554,-80.1664 395.319,-70.6629 389.514,-61.815\"/>\r\n",
       "<polygon fill=\"black\" stroke=\"black\" points=\"392.297,-59.6779 383.885,-53.2367 386.445,-63.5178 392.297,-59.6779\"/>\r\n",
       "</g>\r\n",
       "<!-- 11 -->\r\n",
       "<g id=\"node12\" class=\"node\"><title>11</title>\r\n",
       "<polygon fill=\"none\" stroke=\"black\" points=\"542.5,-53 437.5,-53 437.5,-0 542.5,-0 542.5,-53\"/>\r\n",
       "<text text-anchor=\"middle\" x=\"490\" y=\"-37.8\" font-family=\"Times New Roman,serif\" font-size=\"14.00\">gini = 0.0</text>\r\n",
       "<text text-anchor=\"middle\" x=\"490\" y=\"-22.8\" font-family=\"Times New Roman,serif\" font-size=\"14.00\">samples = 1</text>\r\n",
       "<text text-anchor=\"middle\" x=\"490\" y=\"-7.8\" font-family=\"Times New Roman,serif\" font-size=\"14.00\">value = [0, 0, 1]</text>\r\n",
       "</g>\r\n",
       "<!-- 9&#45;&gt;11 -->\r\n",
       "<g id=\"edge11\" class=\"edge\"><title>9&#45;&gt;11</title>\r\n",
       "<path fill=\"none\" stroke=\"black\" d=\"M450.335,-88.9485C456.004,-80.1664 462.138,-70.6629 467.85,-61.815\"/>\r\n",
       "<polygon fill=\"black\" stroke=\"black\" points=\"470.904,-63.5365 473.387,-53.2367 465.023,-59.7402 470.904,-63.5365\"/>\r\n",
       "</g>\r\n",
       "<!-- 13 -->\r\n",
       "<g id=\"node14\" class=\"node\"><title>13</title>\r\n",
       "<polygon fill=\"none\" stroke=\"black\" points=\"604.5,-261 499.5,-261 499.5,-193 604.5,-193 604.5,-261\"/>\r\n",
       "<text text-anchor=\"middle\" x=\"552\" y=\"-245.8\" font-family=\"Times New Roman,serif\" font-size=\"14.00\">X[1] &lt;= 3.1</text>\r\n",
       "<text text-anchor=\"middle\" x=\"552\" y=\"-230.8\" font-family=\"Times New Roman,serif\" font-size=\"14.00\">gini = 0.444</text>\r\n",
       "<text text-anchor=\"middle\" x=\"552\" y=\"-215.8\" font-family=\"Times New Roman,serif\" font-size=\"14.00\">samples = 3</text>\r\n",
       "<text text-anchor=\"middle\" x=\"552\" y=\"-200.8\" font-family=\"Times New Roman,serif\" font-size=\"14.00\">value = [0, 1, 2]</text>\r\n",
       "</g>\r\n",
       "<!-- 12&#45;&gt;13 -->\r\n",
       "<g id=\"edge13\" class=\"edge\"><title>12&#45;&gt;13</title>\r\n",
       "<path fill=\"none\" stroke=\"black\" d=\"M552,-296.884C552,-288.778 552,-279.982 552,-271.472\"/>\r\n",
       "<polygon fill=\"black\" stroke=\"black\" points=\"555.5,-271.299 552,-261.299 548.5,-271.299 555.5,-271.299\"/>\r\n",
       "</g>\r\n",
       "<!-- 16 -->\r\n",
       "<g id=\"node17\" class=\"node\"><title>16</title>\r\n",
       "<polygon fill=\"none\" stroke=\"black\" points=\"735,-253.5 623,-253.5 623,-200.5 735,-200.5 735,-253.5\"/>\r\n",
       "<text text-anchor=\"middle\" x=\"679\" y=\"-238.3\" font-family=\"Times New Roman,serif\" font-size=\"14.00\">gini = 0.0</text>\r\n",
       "<text text-anchor=\"middle\" x=\"679\" y=\"-223.3\" font-family=\"Times New Roman,serif\" font-size=\"14.00\">samples = 43</text>\r\n",
       "<text text-anchor=\"middle\" x=\"679\" y=\"-208.3\" font-family=\"Times New Roman,serif\" font-size=\"14.00\">value = [0, 0, 43]</text>\r\n",
       "</g>\r\n",
       "<!-- 12&#45;&gt;16 -->\r\n",
       "<g id=\"edge16\" class=\"edge\"><title>12&#45;&gt;16</title>\r\n",
       "<path fill=\"none\" stroke=\"black\" d=\"M593.233,-296.884C608.022,-285.006 624.656,-271.646 639.311,-259.876\"/>\r\n",
       "<polygon fill=\"black\" stroke=\"black\" points=\"641.62,-262.511 647.225,-253.52 637.237,-257.053 641.62,-262.511\"/>\r\n",
       "</g>\r\n",
       "<!-- 14 -->\r\n",
       "<g id=\"node15\" class=\"node\"><title>14</title>\r\n",
       "<polygon fill=\"none\" stroke=\"black\" points=\"604.5,-149.5 499.5,-149.5 499.5,-96.5 604.5,-96.5 604.5,-149.5\"/>\r\n",
       "<text text-anchor=\"middle\" x=\"552\" y=\"-134.3\" font-family=\"Times New Roman,serif\" font-size=\"14.00\">gini = 0.0</text>\r\n",
       "<text text-anchor=\"middle\" x=\"552\" y=\"-119.3\" font-family=\"Times New Roman,serif\" font-size=\"14.00\">samples = 2</text>\r\n",
       "<text text-anchor=\"middle\" x=\"552\" y=\"-104.3\" font-family=\"Times New Roman,serif\" font-size=\"14.00\">value = [0, 0, 2]</text>\r\n",
       "</g>\r\n",
       "<!-- 13&#45;&gt;14 -->\r\n",
       "<g id=\"edge14\" class=\"edge\"><title>13&#45;&gt;14</title>\r\n",
       "<path fill=\"none\" stroke=\"black\" d=\"M552,-192.884C552,-182.326 552,-170.597 552,-159.854\"/>\r\n",
       "<polygon fill=\"black\" stroke=\"black\" points=\"555.5,-159.52 552,-149.52 548.5,-159.52 555.5,-159.52\"/>\r\n",
       "</g>\r\n",
       "<!-- 15 -->\r\n",
       "<g id=\"node16\" class=\"node\"><title>15</title>\r\n",
       "<polygon fill=\"none\" stroke=\"black\" points=\"727.5,-149.5 622.5,-149.5 622.5,-96.5 727.5,-96.5 727.5,-149.5\"/>\r\n",
       "<text text-anchor=\"middle\" x=\"675\" y=\"-134.3\" font-family=\"Times New Roman,serif\" font-size=\"14.00\">gini = 0.0</text>\r\n",
       "<text text-anchor=\"middle\" x=\"675\" y=\"-119.3\" font-family=\"Times New Roman,serif\" font-size=\"14.00\">samples = 1</text>\r\n",
       "<text text-anchor=\"middle\" x=\"675\" y=\"-104.3\" font-family=\"Times New Roman,serif\" font-size=\"14.00\">value = [0, 1, 0]</text>\r\n",
       "</g>\r\n",
       "<!-- 13&#45;&gt;15 -->\r\n",
       "<g id=\"edge15\" class=\"edge\"><title>13&#45;&gt;15</title>\r\n",
       "<path fill=\"none\" stroke=\"black\" d=\"M591.935,-192.884C606.125,-181.116 622.069,-167.894 636.167,-156.203\"/>\r\n",
       "<polygon fill=\"black\" stroke=\"black\" points=\"638.763,-158.597 644.226,-149.52 634.294,-153.209 638.763,-158.597\"/>\r\n",
       "</g>\r\n",
       "</g>\r\n",
       "</svg>\r\n"
      ],
      "text/plain": [
       "<graphviz.files.Source at 0x22e42180f48>"
      ]
     },
     "execution_count": 57,
     "metadata": {},
     "output_type": "execute_result"
    }
   ],
   "source": [
    "import graphviz \n",
    "from sklearn.tree import export_graphviz\n",
    "\n",
    "dot_data = export_graphviz(clf, out_file=None) \n",
    "graph = graphviz.Source(dot_data) \n",
    "#graph.render(\"iris\") \n",
    "\n",
    "graph = graphviz.Source(dot_data)  \n",
    "graph "
   ]
  },
  {
   "cell_type": "markdown",
   "metadata": {},
   "source": [
    "## ¿Cómo podemos podar el árbol?\n",
    "\n",
    "En el caso de scikit learn, no podemos podar un árbol depués de crearlo, tenemos que hacerlo a priori, poniendo algunos límites.\n",
    "\n",
    "Por ejemplo:\n",
    "\n",
    "* max_depth : limitar la máxima profundidad del árbol nos dará un conjunto de ramas que serán más generales ya que no ha podido profundizar mucho en el árbol hasta llegar al ajuste de muestra por muestra.\n",
    "\n",
    "* min_samples_split: aumentar el número de muestras para hacer un split ayuda a no sobreajustar ya que necesitará que haya un número mayor de casos que tengan una casuística similar para hacer un split, esto ayuda a que la decisión del split sea más generalizable al estar basada en más ejemplos. El caso extremo sería una muestra mínima por split que podría ajustarse completamente al ruido.\n"
   ]
  },
  {
   "cell_type": "code",
   "execution_count": 89,
   "metadata": {},
   "outputs": [
    {
     "data": {
      "image/svg+xml": [
       "<?xml version=\"1.0\" encoding=\"UTF-8\" standalone=\"no\"?>\r\n",
       "<!DOCTYPE svg PUBLIC \"-//W3C//DTD SVG 1.1//EN\"\r\n",
       " \"http://www.w3.org/Graphics/SVG/1.1/DTD/svg11.dtd\">\r\n",
       "<!-- Generated by graphviz version 2.38.0 (20140413.2041)\r\n",
       " -->\r\n",
       "<!-- Title: Tree Pages: 1 -->\r\n",
       "<svg width=\"313pt\" height=\"269pt\"\r\n",
       " viewBox=\"0.00 0.00 313.00 269.00\" xmlns=\"http://www.w3.org/2000/svg\" xmlns:xlink=\"http://www.w3.org/1999/xlink\">\r\n",
       "<g id=\"graph0\" class=\"graph\" transform=\"scale(1 1) rotate(0) translate(4 265)\">\r\n",
       "<title>Tree</title>\r\n",
       "<polygon fill=\"white\" stroke=\"none\" points=\"-4,4 -4,-265 309,-265 309,4 -4,4\"/>\r\n",
       "<!-- 0 -->\r\n",
       "<g id=\"node1\" class=\"node\"><title>0</title>\r\n",
       "<polygon fill=\"none\" stroke=\"black\" points=\"243.5,-261 124.5,-261 124.5,-193 243.5,-193 243.5,-261\"/>\r\n",
       "<text text-anchor=\"middle\" x=\"184\" y=\"-245.8\" font-family=\"Times New Roman,serif\" font-size=\"14.00\">X[3] &lt;= 1.65</text>\r\n",
       "<text text-anchor=\"middle\" x=\"184\" y=\"-230.8\" font-family=\"Times New Roman,serif\" font-size=\"14.00\">gini = 0.638</text>\r\n",
       "<text text-anchor=\"middle\" x=\"184\" y=\"-215.8\" font-family=\"Times New Roman,serif\" font-size=\"14.00\">samples = 30</text>\r\n",
       "<text text-anchor=\"middle\" x=\"184\" y=\"-200.8\" font-family=\"Times New Roman,serif\" font-size=\"14.00\">value = [6, 11, 13]</text>\r\n",
       "</g>\r\n",
       "<!-- 1 -->\r\n",
       "<g id=\"node2\" class=\"node\"><title>1</title>\r\n",
       "<polygon fill=\"none\" stroke=\"black\" points=\"175,-157 63,-157 63,-89 175,-89 175,-157\"/>\r\n",
       "<text text-anchor=\"middle\" x=\"119\" y=\"-141.8\" font-family=\"Times New Roman,serif\" font-size=\"14.00\">X[1] &lt;= 3.1</text>\r\n",
       "<text text-anchor=\"middle\" x=\"119\" y=\"-126.8\" font-family=\"Times New Roman,serif\" font-size=\"14.00\">gini = 0.457</text>\r\n",
       "<text text-anchor=\"middle\" x=\"119\" y=\"-111.8\" font-family=\"Times New Roman,serif\" font-size=\"14.00\">samples = 17</text>\r\n",
       "<text text-anchor=\"middle\" x=\"119\" y=\"-96.8\" font-family=\"Times New Roman,serif\" font-size=\"14.00\">value = [6, 11, 0]</text>\r\n",
       "</g>\r\n",
       "<!-- 0&#45;&gt;1 -->\r\n",
       "<g id=\"edge1\" class=\"edge\"><title>0&#45;&gt;1</title>\r\n",
       "<path fill=\"none\" stroke=\"black\" d=\"M162.896,-192.884C157.39,-184.243 151.385,-174.819 145.633,-165.793\"/>\r\n",
       "<polygon fill=\"black\" stroke=\"black\" points=\"148.546,-163.852 140.22,-157.299 142.643,-167.614 148.546,-163.852\"/>\r\n",
       "<text text-anchor=\"middle\" x=\"134.812\" y=\"-178.007\" font-family=\"Times New Roman,serif\" font-size=\"14.00\">True</text>\r\n",
       "</g>\r\n",
       "<!-- 4 -->\r\n",
       "<g id=\"node5\" class=\"node\"><title>4</title>\r\n",
       "<polygon fill=\"none\" stroke=\"black\" points=\"305,-149.5 193,-149.5 193,-96.5 305,-96.5 305,-149.5\"/>\r\n",
       "<text text-anchor=\"middle\" x=\"249\" y=\"-134.3\" font-family=\"Times New Roman,serif\" font-size=\"14.00\">gini = 0.0</text>\r\n",
       "<text text-anchor=\"middle\" x=\"249\" y=\"-119.3\" font-family=\"Times New Roman,serif\" font-size=\"14.00\">samples = 13</text>\r\n",
       "<text text-anchor=\"middle\" x=\"249\" y=\"-104.3\" font-family=\"Times New Roman,serif\" font-size=\"14.00\">value = [0, 0, 13]</text>\r\n",
       "</g>\r\n",
       "<!-- 0&#45;&gt;4 -->\r\n",
       "<g id=\"edge4\" class=\"edge\"><title>0&#45;&gt;4</title>\r\n",
       "<path fill=\"none\" stroke=\"black\" d=\"M205.104,-192.884C212.182,-181.776 220.087,-169.372 227.216,-158.184\"/>\r\n",
       "<polygon fill=\"black\" stroke=\"black\" points=\"230.315,-159.834 232.737,-149.52 224.412,-156.072 230.315,-159.834\"/>\r\n",
       "<text text-anchor=\"middle\" x=\"238.145\" y=\"-170.228\" font-family=\"Times New Roman,serif\" font-size=\"14.00\">False</text>\r\n",
       "</g>\r\n",
       "<!-- 2 -->\r\n",
       "<g id=\"node3\" class=\"node\"><title>2</title>\r\n",
       "<polygon fill=\"none\" stroke=\"black\" points=\"112,-53 7.10543e-015,-53 7.10543e-015,-0 112,-0 112,-53\"/>\r\n",
       "<text text-anchor=\"middle\" x=\"56\" y=\"-37.8\" font-family=\"Times New Roman,serif\" font-size=\"14.00\">gini = 0.0</text>\r\n",
       "<text text-anchor=\"middle\" x=\"56\" y=\"-22.8\" font-family=\"Times New Roman,serif\" font-size=\"14.00\">samples = 11</text>\r\n",
       "<text text-anchor=\"middle\" x=\"56\" y=\"-7.8\" font-family=\"Times New Roman,serif\" font-size=\"14.00\">value = [0, 11, 0]</text>\r\n",
       "</g>\r\n",
       "<!-- 1&#45;&gt;2 -->\r\n",
       "<g id=\"edge2\" class=\"edge\"><title>1&#45;&gt;2</title>\r\n",
       "<path fill=\"none\" stroke=\"black\" d=\"M96.9657,-88.9485C91.1109,-80.1664 84.7753,-70.6629 78.8767,-61.815\"/>\r\n",
       "<polygon fill=\"black\" stroke=\"black\" points=\"81.617,-59.6158 73.1578,-53.2367 75.7927,-63.4987 81.617,-59.6158\"/>\r\n",
       "</g>\r\n",
       "<!-- 3 -->\r\n",
       "<g id=\"node4\" class=\"node\"><title>3</title>\r\n",
       "<polygon fill=\"none\" stroke=\"black\" points=\"235.5,-53 130.5,-53 130.5,-0 235.5,-0 235.5,-53\"/>\r\n",
       "<text text-anchor=\"middle\" x=\"183\" y=\"-37.8\" font-family=\"Times New Roman,serif\" font-size=\"14.00\">gini = 0.0</text>\r\n",
       "<text text-anchor=\"middle\" x=\"183\" y=\"-22.8\" font-family=\"Times New Roman,serif\" font-size=\"14.00\">samples = 6</text>\r\n",
       "<text text-anchor=\"middle\" x=\"183\" y=\"-7.8\" font-family=\"Times New Roman,serif\" font-size=\"14.00\">value = [6, 0, 0]</text>\r\n",
       "</g>\r\n",
       "<!-- 1&#45;&gt;3 -->\r\n",
       "<g id=\"edge3\" class=\"edge\"><title>1&#45;&gt;3</title>\r\n",
       "<path fill=\"none\" stroke=\"black\" d=\"M141.384,-88.9485C147.394,-80.0749 153.902,-70.4648 159.947,-61.5388\"/>\r\n",
       "<polygon fill=\"black\" stroke=\"black\" points=\"162.86,-63.4792 165.57,-53.2367 157.064,-59.5539 162.86,-63.4792\"/>\r\n",
       "</g>\r\n",
       "</g>\r\n",
       "</svg>\r\n"
      ],
      "text/plain": [
       "<graphviz.files.Source at 0x22e421da5c8>"
      ]
     },
     "execution_count": 89,
     "metadata": {},
     "output_type": "execute_result"
    }
   ],
   "source": [
    "from sklearn.tree import DecisionTreeClassifier\n",
    "\n",
    "tree = DecisionTreeClassifier(max_depth = 3, min_samples_leaf= 5, random_state=random_state)\n",
    "tree = tree.fit(X_train, y_train)\n",
    "\n",
    "import graphviz \n",
    "from sklearn.tree import export_graphviz\n",
    "\n",
    "dot_data = export_graphviz(tree, out_file=None) \n",
    "graph = graphviz.Source(dot_data) \n",
    "#graph.render(\"iris\") \n",
    "\n",
    "graph = graphviz.Source(dot_data)  \n",
    "graph "
   ]
  },
  {
   "cell_type": "code",
   "execution_count": 90,
   "metadata": {},
   "outputs": [
    {
     "name": "stdout",
     "output_type": "stream",
     "text": [
      "\n",
      "Accuracy 0.8083333333333333\n"
     ]
    }
   ],
   "source": [
    "from sklearn.metrics import confusion_matrix\n",
    "from sklearn.metrics import accuracy_score\n",
    "\n",
    "y_pred = tree.predict(X_test)\n",
    "\n",
    "print('\\nAccuracy ' + str(accuracy_score(y_test, y_pred)))"
   ]
  },
  {
   "cell_type": "code",
   "execution_count": 91,
   "metadata": {},
   "outputs": [
    {
     "data": {
      "text/plain": [
       "array([1.        , 1.        , 1.        , 0.83333333, 1.        ])"
      ]
     },
     "execution_count": 91,
     "metadata": {},
     "output_type": "execute_result"
    }
   ],
   "source": [
    "from sklearn.model_selection import cross_val_score\n",
    "scores = cross_val_score(tree, X_train, y_train, cv=5)\n",
    "scores"
   ]
  },
  {
   "cell_type": "markdown",
   "metadata": {},
   "source": [
    "## Consejos sobre uso práctico \n",
    "\n",
    "Los árboles de decisión tienden a sobreajustar los datos con una gran cantidad de características. Es importante obtener la proporción correcta de muestras y cantidad de características, ya que es muy probable que un árbol con pocas muestras en un espacio de alta dimensión se sobreajuste.\n",
    "\n",
    "Considere realizar una reducción de dimensionalidad (PCA, LDA) de antemano para darle a su árbol una mejor oportunidad de encontrar características que sean discriminantes.\n",
    "\n",
    "Hay que visualizar el árbol mientras entrena para evaluar el sobreajuste. Se empieza con max_depth=3 como profundidad de árbol inicial para tener una idea de cómo el árbol se ajusta a los datos, y luego se aumenta la profundidad.\n",
    "\n",
    "\n",
    "Use min_samples_split o min_samples_leaf para asegurarse de que varias muestras aportan información para cada decisión en el árbol, controlando qué divisiones serán consideradas. Un número muy pequeño generalmente significará que el árbol se sobreajustará, mientras que un número grande evitará que el árbol aprenda de los datos. Intentar min_samples_leaf=5 como un valor inicial.\n",
    "\n",
    "Equilibre su conjunto de datos antes de entrenar para evitar que el árbol se sesgue hacia las clases dominantes. El equilibrio de clase se puede hacer muestreando un número igual de muestras de cada clase, o preferiblemente normalizando la suma de los pesos de muestra ( sample_weight) para cada clase al mismo valor. También tenga en cuenta que los criterios de poda previa basados en el peso, como por ejemplo min_weight_fraction_leaf, estarán menos sesgados hacia las clases dominantes que los criterios que no conocen los pesos de la muestra, como min_samples_leaf.\n",
    "\n",
    "Si las muestras se ponderan, será más fácil optimizar la estructura del árbol utilizando criterios de poda previa basados en el peso, como por ejemplo min_weight_fraction_leaf, que aseguran que los nodos de las hojas contengan al menos una fracción de la suma total de los pesos de la muestra.\n",
    "\n",
    "# Cuando usar Árboles de Decisión\n",
    "\n",
    "Desde el punto de vista de la precisión es una técnica ampliamente superada por otras. Además hoy en día la potencia de computación está más al alcance de cualquier compañía que hace 20 años por lo que no el performance de entrenamiento no es tan crítico como para elegir esta técnica.\n",
    "\n",
    "Pero si hay que elegirla cuando prima la explicabilidad del modelo y cuando funciona igual de bien que otros modelos mucho más complejos."
   ]
  }
 ],
 "metadata": {
  "kernelspec": {
   "display_name": "Python 3",
   "language": "python",
   "name": "python3"
  },
  "language_info": {
   "codemirror_mode": {
    "name": "ipython",
    "version": 3
   },
   "file_extension": ".py",
   "mimetype": "text/x-python",
   "name": "python",
   "nbconvert_exporter": "python",
   "pygments_lexer": "ipython3",
   "version": "3.7.7"
  }
 },
 "nbformat": 4,
 "nbformat_minor": 2
}
