{
 "cells": [
  {
   "cell_type": "markdown",
   "metadata": {},
   "source": [
    "# 4.3 K-means\n",
    "\n",
    "### Miguel Ángel Jiménez Cuadrillero\n",
    "### 2020\n",
    "\n",
    "*OBJETIVO*: Descubrir si hay grupos dentro de los datos, es decir, una agrupación coherente en los datos.\n",
    "\n",
    "\n",
    "Para realizar un análisis de cluster en Python, generalmente, los datos deben prepararse de la siguiente manera:\n",
    "\n",
    "Las filas son observaciones (individuos) y las columnas son variables\n",
    "Cualquier valor que falte en los datos debe eliminarse o estimarse.\n",
    "Los datos deben estar estandarizados (es decir, escalados) para que las variables sean comparables. La estandarización consiste en transformar las variables de tal manera que tengan media cero y desviación estándar uno.\n",
    "Usaremos el conjunto de datos R integrado “USArrests”, que contiene estadísticas sobre arrestos por cada 100,000 residentes por asalto, asesinato y violación en cada uno de los 50 estados de EE. UU. en 1973.\n",
    "\n",
    "Incluye también el porcentaje de la población que vive en áreas urbanas."
   ]
  },
  {
   "cell_type": "code",
   "execution_count": 22,
   "metadata": {
    "ExecuteTime": {
     "end_time": "2020-07-07T04:15:00.629307Z",
     "start_time": "2020-07-07T04:14:40.477141Z"
    }
   },
   "outputs": [
    {
     "data": {
      "text/plain": [
       "<Figure size 1440x360 with 0 Axes>"
      ]
     },
     "metadata": {},
     "output_type": "display_data"
    }
   ],
   "source": [
    "import pandas as pd\n",
    "import numpy as np  \n",
    "import seaborn as sns\n",
    "import matplotlib.pyplot as plt\n",
    "%matplotlib inline \n",
    "import warnings\n",
    "from sklearn.model_selection import train_test_split\n",
    "plt.figure(figsize=(20,5))\n",
    "\n",
    "random_state = 123\n",
    "\n",
    "from sklearn import datasets"
   ]
  },
  {
   "cell_type": "code",
   "execution_count": 23,
   "metadata": {
    "ExecuteTime": {
     "end_time": "2020-07-07T04:18:55.470878Z",
     "start_time": "2020-07-07T04:18:55.452906Z"
    }
   },
   "outputs": [
    {
     "name": "stdout",
     "output_type": "stream",
     "text": [
      "            Murder   Assault  UrbanPop      Rape\n",
      "Murder    1.000000  0.801873  0.069573  0.563579\n",
      "Assault   0.801873  1.000000  0.258872  0.665241\n",
      "UrbanPop  0.069573  0.258872  1.000000  0.411341\n",
      "Rape      0.563579  0.665241  0.411341  1.000000\n"
     ]
    }
   ],
   "source": [
    "df = pd.read_csv(\"./datasets/USArrests.csv\", sep=',')\n",
    "\n",
    "cor = df.corr(method='pearson')\n",
    "print(cor)"
   ]
  },
  {
   "cell_type": "code",
   "execution_count": 24,
   "metadata": {},
   "outputs": [
    {
     "data": {
      "text/html": [
       "<div>\n",
       "<style scoped>\n",
       "    .dataframe tbody tr th:only-of-type {\n",
       "        vertical-align: middle;\n",
       "    }\n",
       "\n",
       "    .dataframe tbody tr th {\n",
       "        vertical-align: top;\n",
       "    }\n",
       "\n",
       "    .dataframe thead th {\n",
       "        text-align: right;\n",
       "    }\n",
       "</style>\n",
       "<table border=\"1\" class=\"dataframe\">\n",
       "  <thead>\n",
       "    <tr style=\"text-align: right;\">\n",
       "      <th></th>\n",
       "      <th>State</th>\n",
       "      <th>Murder</th>\n",
       "      <th>Assault</th>\n",
       "      <th>UrbanPop</th>\n",
       "      <th>Rape</th>\n",
       "    </tr>\n",
       "  </thead>\n",
       "  <tbody>\n",
       "    <tr>\n",
       "      <th>0</th>\n",
       "      <td>Alabama</td>\n",
       "      <td>13.2</td>\n",
       "      <td>236</td>\n",
       "      <td>58</td>\n",
       "      <td>21.2</td>\n",
       "    </tr>\n",
       "    <tr>\n",
       "      <th>1</th>\n",
       "      <td>Alaska</td>\n",
       "      <td>10.0</td>\n",
       "      <td>263</td>\n",
       "      <td>48</td>\n",
       "      <td>44.5</td>\n",
       "    </tr>\n",
       "    <tr>\n",
       "      <th>2</th>\n",
       "      <td>Arizona</td>\n",
       "      <td>8.1</td>\n",
       "      <td>294</td>\n",
       "      <td>80</td>\n",
       "      <td>31.0</td>\n",
       "    </tr>\n",
       "    <tr>\n",
       "      <th>3</th>\n",
       "      <td>Arkansas</td>\n",
       "      <td>8.8</td>\n",
       "      <td>190</td>\n",
       "      <td>50</td>\n",
       "      <td>19.5</td>\n",
       "    </tr>\n",
       "    <tr>\n",
       "      <th>4</th>\n",
       "      <td>California</td>\n",
       "      <td>9.0</td>\n",
       "      <td>276</td>\n",
       "      <td>91</td>\n",
       "      <td>40.6</td>\n",
       "    </tr>\n",
       "  </tbody>\n",
       "</table>\n",
       "</div>"
      ],
      "text/plain": [
       "        State  Murder  Assault  UrbanPop  Rape\n",
       "0     Alabama    13.2      236        58  21.2\n",
       "1      Alaska    10.0      263        48  44.5\n",
       "2     Arizona     8.1      294        80  31.0\n",
       "3    Arkansas     8.8      190        50  19.5\n",
       "4  California     9.0      276        91  40.6"
      ]
     },
     "execution_count": 24,
     "metadata": {},
     "output_type": "execute_result"
    }
   ],
   "source": [
    "df.head()"
   ]
  },
  {
   "cell_type": "code",
   "execution_count": 25,
   "metadata": {},
   "outputs": [
    {
     "data": {
      "text/html": [
       "<div>\n",
       "<style scoped>\n",
       "    .dataframe tbody tr th:only-of-type {\n",
       "        vertical-align: middle;\n",
       "    }\n",
       "\n",
       "    .dataframe tbody tr th {\n",
       "        vertical-align: top;\n",
       "    }\n",
       "\n",
       "    .dataframe thead th {\n",
       "        text-align: right;\n",
       "    }\n",
       "</style>\n",
       "<table border=\"1\" class=\"dataframe\">\n",
       "  <thead>\n",
       "    <tr style=\"text-align: right;\">\n",
       "      <th></th>\n",
       "      <th>State</th>\n",
       "      <th>Murder</th>\n",
       "      <th>Assault</th>\n",
       "      <th>UrbanPop</th>\n",
       "      <th>Rape</th>\n",
       "    </tr>\n",
       "  </thead>\n",
       "  <tbody>\n",
       "    <tr>\n",
       "      <th>45</th>\n",
       "      <td>Virginia</td>\n",
       "      <td>8.5</td>\n",
       "      <td>156</td>\n",
       "      <td>63</td>\n",
       "      <td>20.7</td>\n",
       "    </tr>\n",
       "    <tr>\n",
       "      <th>46</th>\n",
       "      <td>Washington</td>\n",
       "      <td>4.0</td>\n",
       "      <td>145</td>\n",
       "      <td>73</td>\n",
       "      <td>26.2</td>\n",
       "    </tr>\n",
       "    <tr>\n",
       "      <th>47</th>\n",
       "      <td>West Virginia</td>\n",
       "      <td>5.7</td>\n",
       "      <td>81</td>\n",
       "      <td>39</td>\n",
       "      <td>9.3</td>\n",
       "    </tr>\n",
       "    <tr>\n",
       "      <th>48</th>\n",
       "      <td>Wisconsin</td>\n",
       "      <td>2.6</td>\n",
       "      <td>53</td>\n",
       "      <td>66</td>\n",
       "      <td>10.8</td>\n",
       "    </tr>\n",
       "    <tr>\n",
       "      <th>49</th>\n",
       "      <td>Wyoming</td>\n",
       "      <td>6.8</td>\n",
       "      <td>161</td>\n",
       "      <td>60</td>\n",
       "      <td>15.6</td>\n",
       "    </tr>\n",
       "  </tbody>\n",
       "</table>\n",
       "</div>"
      ],
      "text/plain": [
       "            State  Murder  Assault  UrbanPop  Rape\n",
       "45       Virginia     8.5      156        63  20.7\n",
       "46     Washington     4.0      145        73  26.2\n",
       "47  West Virginia     5.7       81        39   9.3\n",
       "48      Wisconsin     2.6       53        66  10.8\n",
       "49        Wyoming     6.8      161        60  15.6"
      ]
     },
     "execution_count": 25,
     "metadata": {},
     "output_type": "execute_result"
    }
   ],
   "source": [
    "df.tail()"
   ]
  },
  {
   "cell_type": "code",
   "execution_count": 26,
   "metadata": {},
   "outputs": [
    {
     "data": {
      "text/html": [
       "<div>\n",
       "<style scoped>\n",
       "    .dataframe tbody tr th:only-of-type {\n",
       "        vertical-align: middle;\n",
       "    }\n",
       "\n",
       "    .dataframe tbody tr th {\n",
       "        vertical-align: top;\n",
       "    }\n",
       "\n",
       "    .dataframe thead th {\n",
       "        text-align: right;\n",
       "    }\n",
       "</style>\n",
       "<table border=\"1\" class=\"dataframe\">\n",
       "  <thead>\n",
       "    <tr style=\"text-align: right;\">\n",
       "      <th></th>\n",
       "      <th>Murder</th>\n",
       "      <th>Assault</th>\n",
       "      <th>UrbanPop</th>\n",
       "      <th>Rape</th>\n",
       "    </tr>\n",
       "  </thead>\n",
       "  <tbody>\n",
       "    <tr>\n",
       "      <th>count</th>\n",
       "      <td>50.00000</td>\n",
       "      <td>50.000000</td>\n",
       "      <td>50.000000</td>\n",
       "      <td>50.000000</td>\n",
       "    </tr>\n",
       "    <tr>\n",
       "      <th>mean</th>\n",
       "      <td>7.78800</td>\n",
       "      <td>170.760000</td>\n",
       "      <td>65.540000</td>\n",
       "      <td>21.232000</td>\n",
       "    </tr>\n",
       "    <tr>\n",
       "      <th>std</th>\n",
       "      <td>4.35551</td>\n",
       "      <td>83.337661</td>\n",
       "      <td>14.474763</td>\n",
       "      <td>9.366385</td>\n",
       "    </tr>\n",
       "    <tr>\n",
       "      <th>min</th>\n",
       "      <td>0.80000</td>\n",
       "      <td>45.000000</td>\n",
       "      <td>32.000000</td>\n",
       "      <td>7.300000</td>\n",
       "    </tr>\n",
       "    <tr>\n",
       "      <th>25%</th>\n",
       "      <td>4.07500</td>\n",
       "      <td>109.000000</td>\n",
       "      <td>54.500000</td>\n",
       "      <td>15.075000</td>\n",
       "    </tr>\n",
       "    <tr>\n",
       "      <th>50%</th>\n",
       "      <td>7.25000</td>\n",
       "      <td>159.000000</td>\n",
       "      <td>66.000000</td>\n",
       "      <td>20.100000</td>\n",
       "    </tr>\n",
       "    <tr>\n",
       "      <th>75%</th>\n",
       "      <td>11.25000</td>\n",
       "      <td>249.000000</td>\n",
       "      <td>77.750000</td>\n",
       "      <td>26.175000</td>\n",
       "    </tr>\n",
       "    <tr>\n",
       "      <th>max</th>\n",
       "      <td>17.40000</td>\n",
       "      <td>337.000000</td>\n",
       "      <td>91.000000</td>\n",
       "      <td>46.000000</td>\n",
       "    </tr>\n",
       "  </tbody>\n",
       "</table>\n",
       "</div>"
      ],
      "text/plain": [
       "         Murder     Assault   UrbanPop       Rape\n",
       "count  50.00000   50.000000  50.000000  50.000000\n",
       "mean    7.78800  170.760000  65.540000  21.232000\n",
       "std     4.35551   83.337661  14.474763   9.366385\n",
       "min     0.80000   45.000000  32.000000   7.300000\n",
       "25%     4.07500  109.000000  54.500000  15.075000\n",
       "50%     7.25000  159.000000  66.000000  20.100000\n",
       "75%    11.25000  249.000000  77.750000  26.175000\n",
       "max    17.40000  337.000000  91.000000  46.000000"
      ]
     },
     "execution_count": 26,
     "metadata": {},
     "output_type": "execute_result"
    }
   ],
   "source": [
    "df.describe()"
   ]
  },
  {
   "cell_type": "code",
   "execution_count": 27,
   "metadata": {},
   "outputs": [
    {
     "data": {
      "text/plain": [
       "<seaborn.axisgrid.PairGrid at 0x17082c4a048>"
      ]
     },
     "execution_count": 27,
     "metadata": {},
     "output_type": "execute_result"
    },
    {
     "data": {
      "image/png": "[encoded data removed]",
      "text/plain": [
       "<Figure size 720x720 with 20 Axes>"
      ]
     },
     "metadata": {
      "needs_background": "light"
     },
     "output_type": "display_data"
    }
   ],
   "source": [
    "sns.pairplot(df)"
   ]
  },
  {
   "cell_type": "code",
   "execution_count": 28,
   "metadata": {},
   "outputs": [
    {
     "name": "stdout",
     "output_type": "stream",
     "text": [
      "             State    Murder   Assault  UrbanPop      Rape\n",
      "0          Alabama  1.255179  0.790787 -0.526195 -0.003451\n",
      "1           Alaska  0.513019  1.118060 -1.224067  2.509424\n",
      "2          Arizona  0.072361  1.493817  1.009122  1.053466\n",
      "3         Arkansas  0.234708  0.233212 -1.084492 -0.186794\n",
      "4       California  0.281093  1.275635  1.776781  2.088814\n",
      "5         Colorado  0.025976  0.402909  0.869548  1.883901\n",
      "6      Connecticut -1.040880 -0.736484  0.799761 -1.092723\n",
      "7         Delaware -0.437875  0.815030  0.450825 -0.585834\n",
      "8          Florida  1.765415  1.990786  1.009122  1.150530\n",
      "9          Georgia  2.229265  0.487757 -0.386621  0.492653\n",
      "10          Hawaii -0.577030 -1.512241  1.218484 -0.111300\n",
      "11           Idaho -1.203228 -0.615272 -0.805344 -0.758392\n",
      "12        Illinois  0.605789  0.948363  1.218484  0.298525\n",
      "13         Indiana -0.136372 -0.700121 -0.037685 -0.025021\n",
      "14            Iowa -1.295998 -1.391029 -0.595982 -1.071153\n",
      "15          Kansas -0.414682 -0.675878  0.032102 -0.348567\n",
      "16        Kentucky  0.443441 -0.748605 -0.944918 -0.531910\n",
      "17       Louisiana  1.765415  0.948363  0.032102  0.104398\n",
      "18           Maine -1.319191 -1.063757 -1.014705 -1.448624\n",
      "19        Maryland  0.814521  1.566544  0.101889  0.708350\n",
      "20   Massachusetts -0.785763 -0.263757  1.358058 -0.531910\n",
      "21        Michigan  1.000062  1.021090  0.590399  1.495646\n",
      "22       Minnesota -1.180036 -1.197090  0.032102 -0.682898\n",
      "23     Mississippi  1.927762  1.069575 -1.503215 -0.445631\n",
      "24        Missouri  0.281093  0.087757  0.311251  0.751490\n",
      "25         Montana -0.414682 -0.748605 -0.875131 -0.521125\n",
      "26        Nebraska -0.808955 -0.833454 -0.247047 -0.510340\n",
      "27          Nevada  1.023254  0.984726  1.078909  2.671197\n",
      "28   New Hampshire -1.319191 -1.378908 -0.665769 -1.265281\n",
      "29      New Jersey -0.089987 -0.142545  1.637207 -0.262288\n",
      "30      New Mexico  0.837714  1.384726  0.311251  1.172100\n",
      "31        New York  0.768136  1.008969  1.427845  0.525008\n",
      "32  North Carolina  1.208794  2.015028 -1.433428 -0.553480\n",
      "33    North Dakota -1.620693 -1.524362 -1.503215 -1.502548\n",
      "34            Ohio -0.113180 -0.615272  0.660186  0.018119\n",
      "35        Oklahoma -0.275527 -0.239515  0.171676 -0.132870\n",
      "36          Oregon -0.669800 -0.142545  0.101889  0.870123\n",
      "37    Pennsylvania -0.345105 -0.784969  0.450825 -0.682898\n",
      "38    Rhode Island -1.017688  0.039273  1.497632 -1.394700\n",
      "39  South Carolina  1.533490  1.311999 -1.224067  0.136752\n",
      "40    South Dakota -0.924918 -1.027393 -1.433428 -0.909380\n",
      "41       Tennessee  1.255179  0.208970 -0.456408  0.611287\n",
      "42           Texas  1.139217  0.366545  1.009122  0.460298\n",
      "43            Utah -1.064073 -0.615272  1.009122  0.179892\n",
      "44         Vermont -1.295998 -1.487999 -2.340661 -1.081938\n",
      "45        Virginia  0.165131 -0.178909 -0.177259 -0.057376\n",
      "46      Washington -0.878533 -0.312242  0.520612  0.535792\n",
      "47   West Virginia -0.484260 -1.087999 -1.852151 -1.286851\n",
      "48       Wisconsin -1.203228 -1.427393  0.032102 -1.125078\n",
      "49         Wyoming -0.229142 -0.118303 -0.386621 -0.607404\n"
     ]
    }
   ],
   "source": [
    "from sklearn.preprocessing import StandardScaler\n",
    "\n",
    "scaled_features = df.copy()\n",
    "\n",
    "\n",
    "numeric_col_names = [\"Murder\",\"Assault\",\"UrbanPop\",\"Rape\"]\n",
    "features = scaled_features[numeric_col_names]\n",
    "scaler = StandardScaler().fit(features.values)\n",
    "features = scaler.transform(features.values)\n",
    "\n",
    "df[col_names] = features\n",
    "\n",
    "print(df)"
   ]
  },
  {
   "cell_type": "code",
   "execution_count": 18,
   "metadata": {},
   "outputs": [],
   "source": [
    "df = df.dropna()"
   ]
  },
  {
   "cell_type": "code",
   "execution_count": 29,
   "metadata": {},
   "outputs": [],
   "source": [
    "from sklearn.cluster import KMeans\n",
    "\n",
    "Sum_of_squared_distances = []\n",
    "K = range(1,15)\n",
    "for k in K:\n",
    "    km = KMeans(n_clusters=k)\n",
    "    km = km.fit(df[numeric_col_names])\n",
    "    Sum_of_squared_distances.append(km.inertia_)"
   ]
  },
  {
   "cell_type": "code",
   "execution_count": 30,
   "metadata": {},
   "outputs": [
    {
     "data": {
      "image/png": "[encoded data removed]",
      "text/plain": [
       "<Figure size 432x288 with 1 Axes>"
      ]
     },
     "metadata": {
      "needs_background": "light"
     },
     "output_type": "display_data"
    }
   ],
   "source": [
    "plt.plot(K, Sum_of_squared_distances, 'bx-')\n",
    "plt.xlabel('k')\n",
    "plt.ylabel('Sum_of_squared_distances')\n",
    "plt.title('Elbow Method For Optimal k')\n",
    "plt.show()\n"
   ]
  },
  {
   "cell_type": "code",
   "execution_count": 33,
   "metadata": {},
   "outputs": [
    {
     "data": {
      "text/plain": [
       "{'n_clusters': 4,\n",
       " 'init': 'k-means++',\n",
       " 'max_iter': 300,\n",
       " 'tol': 0.0001,\n",
       " 'precompute_distances': 'deprecated',\n",
       " 'n_init': 10,\n",
       " 'verbose': 0,\n",
       " 'random_state': None,\n",
       " 'copy_x': True,\n",
       " 'n_jobs': 'deprecated',\n",
       " 'algorithm': 'auto',\n",
       " '_n_threads': 4,\n",
       " 'n_features_in_': 4,\n",
       " 'cluster_centers_': array([[-0.49440658, -0.3864845 ,  0.58167593, -0.26431024],\n",
       "        [ 1.42622412,  0.88321132, -0.82279055,  0.01946669],\n",
       "        [-0.97130281, -1.11783581, -0.93954982, -0.97657842],\n",
       "        [ 0.70212683,  1.04999438,  0.72997363,  1.28990383]]),\n",
       " 'labels_': array([1, 3, 3, 1, 3, 3, 0, 0, 3, 1, 0, 2, 3, 0, 2, 0, 2, 1, 2, 3, 0, 3,\n",
       "        2, 1, 3, 2, 2, 3, 2, 0, 3, 3, 1, 2, 0, 0, 0, 0, 0, 1, 2, 1, 3, 0,\n",
       "        2, 0, 0, 2, 2, 0]),\n",
       " 'inertia_': 57.55425863091106,\n",
       " 'n_iter_': 6}"
      ]
     },
     "execution_count": 33,
     "metadata": {},
     "output_type": "execute_result"
    }
   ],
   "source": [
    "km = KMeans(n_clusters=4)\n",
    "km = km.fit(df[numeric_col_names])\n",
    "km.__dict__"
   ]
  },
  {
   "cell_type": "code",
   "execution_count": null,
   "metadata": {},
   "outputs": [],
   "source": []
  }
 ],
 "metadata": {
  "kernelspec": {
   "display_name": "Python 3",
   "language": "python",
   "name": "python3"
  },
  "language_info": {
   "codemirror_mode": {
    "name": "ipython",
    "version": 3
   },
   "file_extension": ".py",
   "mimetype": "text/x-python",
   "name": "python",
   "nbconvert_exporter": "python",
   "pygments_lexer": "ipython3",
   "version": "3.7.7"
  }
 },
 "nbformat": 4,
 "nbformat_minor": 2
}
